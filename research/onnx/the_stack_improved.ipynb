{
 "cells": [
  {
   "cell_type": "code",
   "execution_count": 1,
   "metadata": {
    "colab": {
     "base_uri": "https://localhost:8080/"
    },
    "id": "--EwEaIzx9Dp",
    "outputId": "8ae00482-5346-488e-fa31-6b0af56a2c79"
   },
   "outputs": [
    {
     "name": "stdout",
     "output_type": "stream",
     "text": [
      "Requirement already up-to-date: pandas in /home/sun/.local/lib/python3.8/site-packages (2.0.3)\n",
      "Requirement already up-to-date: numpy in /home/sun/.local/lib/python3.8/site-packages (1.24.4)\n",
      "Requirement already up-to-date: datasets in /home/sun/.local/lib/python3.8/site-packages (2.14.5)\n",
      "Requirement already up-to-date: huggingface_hub in /home/sun/.local/lib/python3.8/site-packages (0.18.0)\n",
      "Requirement already satisfied, skipping upgrade: python-dateutil>=2.8.2 in /home/sun/.local/lib/python3.8/site-packages (from pandas) (2.8.2)\n",
      "Requirement already satisfied, skipping upgrade: tzdata>=2022.1 in /home/sun/.local/lib/python3.8/site-packages (from pandas) (2023.3)\n",
      "Requirement already satisfied, skipping upgrade: pytz>=2020.1 in /home/sun/.local/lib/python3.8/site-packages (from pandas) (2023.3.post1)\n",
      "Requirement already satisfied, skipping upgrade: tqdm>=4.62.1 in /home/sun/.local/lib/python3.8/site-packages (from datasets) (4.66.1)\n",
      "Requirement already satisfied, skipping upgrade: packaging in /home/sun/.local/lib/python3.8/site-packages (from datasets) (23.2)\n",
      "Requirement already satisfied, skipping upgrade: pyarrow>=8.0.0 in /home/sun/.local/lib/python3.8/site-packages (from datasets) (13.0.0)\n",
      "Requirement already satisfied, skipping upgrade: xxhash in /home/sun/.local/lib/python3.8/site-packages (from datasets) (3.4.1)\n",
      "Requirement already satisfied, skipping upgrade: multiprocess in /home/sun/.local/lib/python3.8/site-packages (from datasets) (0.70.15)\n",
      "Requirement already satisfied, skipping upgrade: pyyaml>=5.1 in /home/sun/.local/lib/python3.8/site-packages (from datasets) (6.0)\n",
      "Requirement already satisfied, skipping upgrade: requests>=2.19.0 in /home/sun/.local/lib/python3.8/site-packages (from datasets) (2.31.0)\n",
      "Requirement already satisfied, skipping upgrade: fsspec[http]<2023.9.0,>=2023.1.0 in /home/sun/.local/lib/python3.8/site-packages (from datasets) (2023.6.0)\n",
      "Requirement already satisfied, skipping upgrade: aiohttp in /home/sun/.local/lib/python3.8/site-packages (from datasets) (3.8.6)\n",
      "Requirement already satisfied, skipping upgrade: dill<0.3.8,>=0.3.0 in /home/sun/.local/lib/python3.8/site-packages (from datasets) (0.3.7)\n",
      "Requirement already satisfied, skipping upgrade: filelock in /home/sun/.local/lib/python3.8/site-packages (from huggingface_hub) (3.12.4)\n",
      "Requirement already satisfied, skipping upgrade: typing-extensions>=3.7.4.3 in /home/sun/.local/lib/python3.8/site-packages (from huggingface_hub) (4.5.0)\n",
      "Requirement already satisfied, skipping upgrade: six>=1.5 in /home/sun/.local/lib/python3.8/site-packages (from python-dateutil>=2.8.2->pandas) (1.16.0)\n",
      "Requirement already satisfied, skipping upgrade: certifi>=2017.4.17 in /usr/lib/python3/dist-packages (from requests>=2.19.0->datasets) (2019.11.28)\n",
      "Requirement already satisfied, skipping upgrade: charset-normalizer<4,>=2 in /home/sun/.local/lib/python3.8/site-packages (from requests>=2.19.0->datasets) (3.3.0)\n",
      "Requirement already satisfied, skipping upgrade: idna<4,>=2.5 in /usr/lib/python3/dist-packages (from requests>=2.19.0->datasets) (2.8)\n",
      "Requirement already satisfied, skipping upgrade: urllib3<3,>=1.21.1 in /usr/lib/python3/dist-packages (from requests>=2.19.0->datasets) (1.25.8)\n",
      "Requirement already satisfied, skipping upgrade: frozenlist>=1.1.1 in /home/sun/.local/lib/python3.8/site-packages (from aiohttp->datasets) (1.4.0)\n",
      "Requirement already satisfied, skipping upgrade: yarl<2.0,>=1.0 in /home/sun/.local/lib/python3.8/site-packages (from aiohttp->datasets) (1.9.2)\n",
      "Requirement already satisfied, skipping upgrade: attrs>=17.3.0 in /home/sun/.local/lib/python3.8/site-packages (from aiohttp->datasets) (23.1.0)\n",
      "Requirement already satisfied, skipping upgrade: aiosignal>=1.1.2 in /home/sun/.local/lib/python3.8/site-packages (from aiohttp->datasets) (1.3.1)\n",
      "Requirement already satisfied, skipping upgrade: multidict<7.0,>=4.5 in /home/sun/.local/lib/python3.8/site-packages (from aiohttp->datasets) (6.0.4)\n",
      "Requirement already satisfied, skipping upgrade: async-timeout<5.0,>=4.0.0a3 in /home/sun/.local/lib/python3.8/site-packages (from aiohttp->datasets) (4.0.3)\n"
     ]
    }
   ],
   "source": [
    "!pip3 install pandas numpy datasets huggingface_hub --upgrade"
   ]
  },
  {
   "cell_type": "code",
   "execution_count": 2,
   "metadata": {},
   "outputs": [],
   "source": [
    "import pandas as pd\n",
    "import numpy as np\n",
    "import os\n",
    "import json\n",
    "\n",
    "BASE_PATH = \"/home/sun/Downloads/tg_challenge/\"\n",
    "# from google.colab import drive\n",
    "# drive.mount('/content/drive')"
   ]
  },
  {
   "cell_type": "markdown",
   "metadata": {
    "id": "M9Ison7ZmDGT"
   },
   "source": [
    "# Data"
   ]
  },
  {
   "cell_type": "code",
   "execution_count": 3,
   "metadata": {
    "id": "8Dy5Yw86mDLj"
   },
   "outputs": [],
   "source": [
    "PATH_TO_JSON_FILE = os.path.join(BASE_PATH, 'language_identification_dataset_100_with_messages_and_regexps.json')\n",
    "\n",
    "with open(PATH_TO_JSON_FILE, 'r') as f:\n",
    "    data = json.load(f)"
   ]
  },
  {
   "cell_type": "code",
   "execution_count": 4,
   "metadata": {},
   "outputs": [
    {
     "data": {
      "text/plain": [
       "['TGLANG_LANGUAGE_ABAP',\n",
       " 'TGLANG_LANGUAGE_ACTIONSCRIPT',\n",
       " 'TGLANG_LANGUAGE_ADA',\n",
       " 'TGLANG_LANGUAGE_APACHE_GROOVY',\n",
       " 'TGLANG_LANGUAGE_APPLESCRIPT',\n",
       " 'TGLANG_LANGUAGE_ASP',\n",
       " 'TGLANG_LANGUAGE_ASSEMBLY',\n",
       " 'TGLANG_LANGUAGE_AUTOHOTKEY',\n",
       " 'TGLANG_LANGUAGE_AWK',\n",
       " 'TGLANG_LANGUAGE_BASIC',\n",
       " 'TGLANG_LANGUAGE_BATCH',\n",
       " 'TGLANG_LANGUAGE_BISON',\n",
       " 'TGLANG_LANGUAGE_C',\n",
       " 'TGLANG_LANGUAGE_CLOJURE',\n",
       " 'TGLANG_LANGUAGE_CMAKE',\n",
       " 'TGLANG_LANGUAGE_COBOL',\n",
       " 'TGLANG_LANGUAGE_COFFESCRIPT',\n",
       " 'TGLANG_LANGUAGE_COMMON_LISP',\n",
       " 'TGLANG_LANGUAGE_CPLUSPLUS',\n",
       " 'TGLANG_LANGUAGE_CRYSTAL',\n",
       " 'TGLANG_LANGUAGE_CSHARP',\n",
       " 'TGLANG_LANGUAGE_CSS',\n",
       " 'TGLANG_LANGUAGE_CSV',\n",
       " 'TGLANG_LANGUAGE_D',\n",
       " 'TGLANG_LANGUAGE_DART',\n",
       " 'TGLANG_LANGUAGE_DOCKER',\n",
       " 'TGLANG_LANGUAGE_ELIXIR',\n",
       " 'TGLANG_LANGUAGE_ELM',\n",
       " 'TGLANG_LANGUAGE_ERLANG',\n",
       " 'TGLANG_LANGUAGE_FORTH',\n",
       " 'TGLANG_LANGUAGE_FORTRAN',\n",
       " 'TGLANG_LANGUAGE_FSHARP',\n",
       " 'TGLANG_LANGUAGE_GAMS',\n",
       " 'TGLANG_LANGUAGE_GO',\n",
       " 'TGLANG_LANGUAGE_GRAPHQL',\n",
       " 'TGLANG_LANGUAGE_HASKELL',\n",
       " 'TGLANG_LANGUAGE_HTML',\n",
       " 'TGLANG_LANGUAGE_IDL',\n",
       " 'TGLANG_LANGUAGE_INI',\n",
       " 'TGLANG_LANGUAGE_JAVA',\n",
       " 'TGLANG_LANGUAGE_JAVASCRIPT',\n",
       " 'TGLANG_LANGUAGE_JSON',\n",
       " 'TGLANG_LANGUAGE_JULIA',\n",
       " 'TGLANG_LANGUAGE_KOTLIN',\n",
       " 'TGLANG_LANGUAGE_LATEX',\n",
       " 'TGLANG_LANGUAGE_LUA',\n",
       " 'TGLANG_LANGUAGE_MAKEFILE',\n",
       " 'TGLANG_LANGUAGE_MARKDOWN',\n",
       " 'TGLANG_LANGUAGE_MATLAB',\n",
       " 'TGLANG_LANGUAGE_NGINX',\n",
       " 'TGLANG_LANGUAGE_NIM',\n",
       " 'TGLANG_LANGUAGE_OBJECTIVE_C',\n",
       " 'TGLANG_LANGUAGE_OCAML',\n",
       " 'TGLANG_LANGUAGE_PASCAL',\n",
       " 'TGLANG_LANGUAGE_PERL',\n",
       " 'TGLANG_LANGUAGE_PHP',\n",
       " 'TGLANG_LANGUAGE_POWERSHELL',\n",
       " 'TGLANG_LANGUAGE_PROLOG',\n",
       " 'TGLANG_LANGUAGE_PROTOBUF',\n",
       " 'TGLANG_LANGUAGE_PYTHON',\n",
       " 'TGLANG_LANGUAGE_QML',\n",
       " 'TGLANG_LANGUAGE_R',\n",
       " 'TGLANG_LANGUAGE_RAKU',\n",
       " 'TGLANG_LANGUAGE_RUBY',\n",
       " 'TGLANG_LANGUAGE_RUST',\n",
       " 'TGLANG_LANGUAGE_SAS',\n",
       " 'TGLANG_LANGUAGE_SCALA',\n",
       " 'TGLANG_LANGUAGE_SCHEME',\n",
       " 'TGLANG_LANGUAGE_SHELL',\n",
       " 'TGLANG_LANGUAGE_SMALLTALK',\n",
       " 'TGLANG_LANGUAGE_SOLIDITY',\n",
       " 'TGLANG_LANGUAGE_SQL',\n",
       " 'TGLANG_LANGUAGE_SWIFT',\n",
       " 'TGLANG_LANGUAGE_TCL',\n",
       " 'TGLANG_LANGUAGE_TEXTILE',\n",
       " 'TGLANG_LANGUAGE_TYPESCRIPT',\n",
       " 'TGLANG_LANGUAGE_UNREALSCRIPT',\n",
       " 'TGLANG_LANGUAGE_VALA',\n",
       " 'TGLANG_LANGUAGE_VERILOG',\n",
       " 'TGLANG_LANGUAGE_VISUAL_BASIC',\n",
       " 'TGLANG_LANGUAGE_WOLFRAM',\n",
       " 'TGLANG_LANGUAGE_XML',\n",
       " 'TGLANG_LANGUAGE_YAML',\n",
       " 'TGLANG_LANGUAGE_OTHER',\n",
       " 'TGLANG_LANGUAGE_REGEX']"
      ]
     },
     "execution_count": 4,
     "metadata": {},
     "output_type": "execute_result"
    }
   ],
   "source": [
    "list(data.keys())"
   ]
  },
  {
   "cell_type": "code",
   "execution_count": 5,
   "metadata": {
    "id": "C0y6gEIOqueg"
   },
   "outputs": [],
   "source": [
    "new_data = dict()\n",
    "for key in data:\n",
    "    if len(data[key]) == 1:\n",
    "        new_data[key] = [data[key][0]]\n",
    "    else:\n",
    "        new_data[key] = [data[key]]"
   ]
  },
  {
   "cell_type": "code",
   "execution_count": 6,
   "metadata": {
    "colab": {
     "base_uri": "https://localhost:8080/"
    },
    "id": "oMICXnd2uB7o",
    "outputId": "134f0245-e933-4582-ab6d-9c745694c5d3"
   },
   "outputs": [
    {
     "data": {
      "text/plain": [
       "50"
      ]
     },
     "execution_count": 6,
     "metadata": {},
     "output_type": "execute_result"
    }
   ],
   "source": [
    "len(new_data['TGLANG_LANGUAGE_BASIC'][0][1])\n",
    "# new_data.keys()"
   ]
  },
  {
   "cell_type": "code",
   "execution_count": 7,
   "metadata": {
    "id": "JADulAZFqutG"
   },
   "outputs": [],
   "source": [
    "# data_for_df = [{\"class\": key, \"text\": value[0][i]} for key, value in new_data.items() for i in range(len(value[0]))]\n",
    "data_for_df = []\n",
    "\n",
    "for key, value in new_data.items():\n",
    "    for i in range(len(value[0])):\n",
    "        if key == 'TGLANG_LANGUAGE_BASIC':\n",
    "            for j in range(len(value[0][i])):\n",
    "                data_for_df.append({'class': key, 'text': value[0][i][j]})\n",
    "        else:\n",
    "            data_for_df.append({'class': key, 'text': value[0][i]})"
   ]
  },
  {
   "cell_type": "code",
   "execution_count": 8,
   "metadata": {
    "id": "VxpZpRQJqu0j"
   },
   "outputs": [],
   "source": [
    "data_for_modeling = pd.DataFrame(data_for_df).sample(frac=1)"
   ]
  },
  {
   "cell_type": "markdown",
   "metadata": {
    "id": "r0Lg745Rxz2S"
   },
   "source": [
    "# Load data"
   ]
  },
  {
   "cell_type": "code",
   "execution_count": 9,
   "metadata": {
    "id": "kHVKpPyesiMP"
   },
   "outputs": [],
   "source": [
    "modeling_data_file = os.path.join(BASE_PATH, \"data_for_modeling.json\")\n",
    "data_for_modeling.to_json(modeling_data_file)\n",
    "data = pd.read_json(modeling_data_file)"
   ]
  },
  {
   "cell_type": "code",
   "execution_count": 10,
   "metadata": {
    "colab": {
     "base_uri": "https://localhost:8080/"
    },
    "id": "m8Wg04lhgzNx",
    "outputId": "a3b87d46-55a9-4948-cfdc-860f7eddea12"
   },
   "outputs": [
    {
     "data": {
      "text/plain": [
       "class\n",
       "TGLANG_LANGUAGE_OTHER         5000\n",
       "TGLANG_LANGUAGE_REGEX         2990\n",
       "TGLANG_LANGUAGE_MARKDOWN       100\n",
       "TGLANG_LANGUAGE_CLOJURE        100\n",
       "TGLANG_LANGUAGE_FORTRAN        100\n",
       "                              ... \n",
       "TGLANG_LANGUAGE_PROTOBUF       100\n",
       "TGLANG_LANGUAGE_BATCH          100\n",
       "TGLANG_LANGUAGE_DOCKER         100\n",
       "TGLANG_LANGUAGE_TYPESCRIPT     100\n",
       "TGLANG_LANGUAGE_NGINX           15\n",
       "Name: count, Length: 85, dtype: int64"
      ]
     },
     "execution_count": 10,
     "metadata": {},
     "output_type": "execute_result"
    }
   ],
   "source": [
    "data['class'].value_counts()"
   ]
  },
  {
   "cell_type": "code",
   "execution_count": 11,
   "metadata": {
    "id": "EJbFpq5b4z1N"
   },
   "outputs": [],
   "source": [
    "IMBALANCED_CLASSES = [\n",
    "    \"TGLANG_LANGUAGE_REGEX\",\n",
    "    \"TGLANG_LANGUAGE_OTHER\",\n",
    "]\n",
    "\n",
    "balanced_based = data[~data['class'].isin(IMBALANCED_CLASSES)]"
   ]
  },
  {
   "cell_type": "code",
   "execution_count": 12,
   "metadata": {
    "id": "YG4pTIFq5VFI"
   },
   "outputs": [],
   "source": [
    "balanced_dfs = [data[data['class'] == CLASS].sample(100, random_state=42) for CLASS in IMBALANCED_CLASSES]"
   ]
  },
  {
   "cell_type": "code",
   "execution_count": 13,
   "metadata": {
    "id": "klV7rxpr5hTr"
   },
   "outputs": [],
   "source": [
    "balanced_data = pd.concat([balanced_based, *balanced_dfs], axis=0)"
   ]
  },
  {
   "cell_type": "code",
   "execution_count": 14,
   "metadata": {
    "id": "ixEKKMcn55DO"
   },
   "outputs": [
    {
     "data": {
      "text/html": [
       "<div>\n",
       "<style scoped>\n",
       "    .dataframe tbody tr th:only-of-type {\n",
       "        vertical-align: middle;\n",
       "    }\n",
       "\n",
       "    .dataframe tbody tr th {\n",
       "        vertical-align: top;\n",
       "    }\n",
       "\n",
       "    .dataframe thead th {\n",
       "        text-align: right;\n",
       "    }\n",
       "</style>\n",
       "<table border=\"1\" class=\"dataframe\">\n",
       "  <thead>\n",
       "    <tr style=\"text-align: right;\">\n",
       "      <th></th>\n",
       "      <th>class</th>\n",
       "      <th>text</th>\n",
       "    </tr>\n",
       "  </thead>\n",
       "  <tbody>\n",
       "    <tr>\n",
       "      <th>6718</th>\n",
       "      <td>TGLANG_LANGUAGE_SHELL</td>\n",
       "      <td>#!/bin/bash\\n\\nprintCommandHelp() {\\n    echo ...</td>\n",
       "    </tr>\n",
       "    <tr>\n",
       "      <th>7652</th>\n",
       "      <td>TGLANG_LANGUAGE_VALA</td>\n",
       "      <td>#!/usr/bin/vala\\nvoid notify(string message) {...</td>\n",
       "    </tr>\n",
       "    <tr>\n",
       "      <th>6959</th>\n",
       "      <td>TGLANG_LANGUAGE_SOLIDITY</td>\n",
       "      <td>// SPDX-License-Identifier: Unlicense\\npragma ...</td>\n",
       "    </tr>\n",
       "    <tr>\n",
       "      <th>6011</th>\n",
       "      <td>TGLANG_LANGUAGE_QML</td>\n",
       "      <td>/*********************************************...</td>\n",
       "    </tr>\n",
       "    <tr>\n",
       "      <th>112</th>\n",
       "      <td>TGLANG_LANGUAGE_ACTIONSCRIPT</td>\n",
       "      <td>package com\\r\\n{\\r\\n\\timport com.utils.Utils;\\...</td>\n",
       "    </tr>\n",
       "  </tbody>\n",
       "</table>\n",
       "</div>"
      ],
      "text/plain": [
       "                             class  \\\n",
       "6718         TGLANG_LANGUAGE_SHELL   \n",
       "7652          TGLANG_LANGUAGE_VALA   \n",
       "6959      TGLANG_LANGUAGE_SOLIDITY   \n",
       "6011           TGLANG_LANGUAGE_QML   \n",
       "112   TGLANG_LANGUAGE_ACTIONSCRIPT   \n",
       "\n",
       "                                                   text  \n",
       "6718  #!/bin/bash\\n\\nprintCommandHelp() {\\n    echo ...  \n",
       "7652  #!/usr/bin/vala\\nvoid notify(string message) {...  \n",
       "6959  // SPDX-License-Identifier: Unlicense\\npragma ...  \n",
       "6011  /*********************************************...  \n",
       "112   package com\\r\\n{\\r\\n\\timport com.utils.Utils;\\...  "
      ]
     },
     "execution_count": 14,
     "metadata": {},
     "output_type": "execute_result"
    }
   ],
   "source": [
    "balanced_data.head()"
   ]
  },
  {
   "cell_type": "code",
   "execution_count": 15,
   "metadata": {
    "id": "qSXGJuKgwJfR"
   },
   "outputs": [],
   "source": [
    "# data[data['class'] == 'TGLANG_LANGUAGE_CPLUSPLUS'].text.str.contains(\"//\").astype(int)\n",
    "\n",
    "# all(isinstance(value, str) for value in data['text'])"
   ]
  },
  {
   "cell_type": "markdown",
   "metadata": {
    "id": "aq3VfrjsmDPE"
   },
   "source": [
    "# Modeling"
   ]
  },
  {
   "cell_type": "code",
   "execution_count": 16,
   "metadata": {
    "id": "56X6EN1XmEAN"
   },
   "outputs": [
    {
     "name": "stdout",
     "output_type": "stream",
     "text": [
      "Requirement already satisfied: scikit-learn in /home/sun/.local/lib/python3.8/site-packages (1.3.1)\n",
      "Requirement already satisfied: scipy>=1.5.0 in /home/sun/.local/lib/python3.8/site-packages (from scikit-learn) (1.10.1)\n",
      "Requirement already satisfied: joblib>=1.1.1 in /home/sun/.local/lib/python3.8/site-packages (from scikit-learn) (1.3.2)\n",
      "Requirement already satisfied: threadpoolctl>=2.0.0 in /home/sun/.local/lib/python3.8/site-packages (from scikit-learn) (3.2.0)\n",
      "Requirement already satisfied: numpy<2.0,>=1.17.3 in /home/sun/.local/lib/python3.8/site-packages (from scikit-learn) (1.24.4)\n"
     ]
    }
   ],
   "source": [
    "!pip3 install scikit-learn"
   ]
  },
  {
   "cell_type": "code",
   "execution_count": 17,
   "metadata": {},
   "outputs": [],
   "source": [
    "from sklearn.model_selection import train_test_split, cross_val_score, cross_val_predict, PredefinedSplit\n",
    "from sklearn.naive_bayes import MultinomialNB\n",
    "from sklearn.feature_extraction.text import TfidfVectorizer"
   ]
  },
  {
   "cell_type": "code",
   "execution_count": 18,
   "metadata": {},
   "outputs": [],
   "source": [
    "### Splitting into folds\n",
    "from typing import List\n",
    "from tqdm import tqdm\n",
    "\n",
    "K_FOLDS = 5"
   ]
  },
  {
   "cell_type": "code",
   "execution_count": 19,
   "metadata": {},
   "outputs": [],
   "source": [
    "\n",
    "\n",
    "\n",
    "# evaluation utils\n",
    "def generate_folding(k_folds: int, df: pd.DataFrame) -> List[int]:\n",
    "\n",
    "    len_folding = df.shape[0] // k_folds\n",
    "    all_folding = []\n",
    "    for i in range(k_folds):\n",
    "\n",
    "        if i != k_folds - 1:\n",
    "            all_folding += [i + 1 for _ in range(len_folding)]\n",
    "        else:\n",
    "            len_folds_computed = df.shape[0] - len(all_folding)\n",
    "            all_folding += [i + 1 for _ in range(len_folds_computed)]\n",
    "    return all_folding\n",
    "\n",
    "\n"
   ]
  },
  {
   "cell_type": "code",
   "execution_count": 20,
   "metadata": {},
   "outputs": [],
   "source": [
    "def get_test_fold_for_iteration(fold_indices, test_fold_num):\n",
    "    return [0 if f == test_fold_num else -1 for f in fold_indices]"
   ]
  },
  {
   "cell_type": "code",
   "execution_count": 21,
   "metadata": {},
   "outputs": [],
   "source": [
    "### Refactor\n",
    "def train_multiple_folds(n_folds: int, df: pd.DataFrame, vectorizer: object) -> List[float]:\n",
    "\n",
    "    X = vectorizer.fit_transform(df['text'])\n",
    "    y = df['class']\n",
    "\n",
    "    test_folding = generate_folding(k_folds=n_folds, df=df)\n",
    "\n",
    "    clf = MultinomialNB()\n",
    "    all_scores = []\n",
    "\n",
    "    for fold_num in tqdm(range(n_folds)):  # As we have 4 folds\n",
    "        current_test_fold = get_test_fold_for_iteration(test_folding, fold_num)\n",
    "        ps = PredefinedSplit(current_test_fold)\n",
    "        scores = cross_val_score(clf, X, y, cv=ps, scoring='f1_macro')\n",
    "        all_scores.extend(scores)\n",
    "\n",
    "    return all_scores"
   ]
  },
  {
   "cell_type": "code",
   "execution_count": 22,
   "metadata": {},
   "outputs": [
    {
     "data": {
      "text/plain": [
       "14399                                   ^[0-9]+(,[0-9]+)*$\n",
       "11037                               نم مستغفراً \\n11:11م 💙\n",
       "9953     🎊🌟 2️⃣0️⃣2️⃣1️⃣🌟 🎊\\n\\n🎉 *HOT SELLING*🎉\\n\\n 🌈 *...\n",
       "6718     #!/bin/bash\\n\\nprintCommandHelp() {\\n    echo ...\n",
       "14170                                  ^([^:])+\\\\.([^:])+$\n",
       "Name: text, dtype: object"
      ]
     },
     "execution_count": 22,
     "metadata": {},
     "output_type": "execute_result"
    }
   ],
   "source": [
    "data['text'].head()"
   ]
  },
  {
   "cell_type": "code",
   "execution_count": 23,
   "metadata": {},
   "outputs": [],
   "source": [
    "vectorizer = TfidfVectorizer(lowercase=False)"
   ]
  },
  {
   "cell_type": "code",
   "execution_count": 24,
   "metadata": {},
   "outputs": [],
   "source": [
    "X = vectorizer.fit_transform(data['text'])\n",
    "y = data['class']"
   ]
  },
  {
   "cell_type": "code",
   "execution_count": 25,
   "metadata": {},
   "outputs": [
    {
     "data": {
      "text/plain": [
       "((16205, 764896), 16205, 16205)"
      ]
     },
     "execution_count": 25,
     "metadata": {},
     "output_type": "execute_result"
    }
   ],
   "source": [
    "X.shape, len(data), len(y)"
   ]
  },
  {
   "cell_type": "code",
   "execution_count": 26,
   "metadata": {},
   "outputs": [
    {
     "data": {
      "text/plain": [
       "{'analyzer': 'word',\n",
       " 'binary': False,\n",
       " 'decode_error': 'strict',\n",
       " 'dtype': numpy.float64,\n",
       " 'encoding': 'utf-8',\n",
       " 'input': 'content',\n",
       " 'lowercase': False,\n",
       " 'max_df': 1.0,\n",
       " 'max_features': None,\n",
       " 'min_df': 1,\n",
       " 'ngram_range': (1, 1),\n",
       " 'norm': 'l2',\n",
       " 'preprocessor': None,\n",
       " 'smooth_idf': True,\n",
       " 'stop_words': None,\n",
       " 'strip_accents': None,\n",
       " 'sublinear_tf': False,\n",
       " 'token_pattern': '(?u)\\\\b\\\\w\\\\w+\\\\b',\n",
       " 'tokenizer': None,\n",
       " 'use_idf': True,\n",
       " 'vocabulary': None}"
      ]
     },
     "execution_count": 26,
     "metadata": {},
     "output_type": "execute_result"
    }
   ],
   "source": [
    "vectorizer.get_params()"
   ]
  },
  {
   "cell_type": "code",
   "execution_count": 27,
   "metadata": {},
   "outputs": [
    {
     "data": {
      "text/plain": [
       "array([4.42404054, 5.45138981, 6.336428  , ..., 9.99998964, 9.99998964,\n",
       "       9.99998964])"
      ]
     },
     "execution_count": 27,
     "metadata": {},
     "output_type": "execute_result"
    }
   ],
   "source": [
    "vectorizer.idf_"
   ]
  },
  {
   "cell_type": "code",
   "execution_count": 28,
   "metadata": {},
   "outputs": [],
   "source": [
    "from sklearn.metrics import f1_score\n",
    "\n",
    "clf = MultinomialNB()\n",
    "# usual traning would be here\n",
    "train_X, val_X, train_y, val_y = train_test_split(X, y, random_state=42)\n"
   ]
  },
  {
   "cell_type": "code",
   "execution_count": 29,
   "metadata": {},
   "outputs": [
    {
     "data": {
      "text/html": [
       "<style>#sk-container-id-1 {color: black;}#sk-container-id-1 pre{padding: 0;}#sk-container-id-1 div.sk-toggleable {background-color: white;}#sk-container-id-1 label.sk-toggleable__label {cursor: pointer;display: block;width: 100%;margin-bottom: 0;padding: 0.3em;box-sizing: border-box;text-align: center;}#sk-container-id-1 label.sk-toggleable__label-arrow:before {content: \"▸\";float: left;margin-right: 0.25em;color: #696969;}#sk-container-id-1 label.sk-toggleable__label-arrow:hover:before {color: black;}#sk-container-id-1 div.sk-estimator:hover label.sk-toggleable__label-arrow:before {color: black;}#sk-container-id-1 div.sk-toggleable__content {max-height: 0;max-width: 0;overflow: hidden;text-align: left;background-color: #f0f8ff;}#sk-container-id-1 div.sk-toggleable__content pre {margin: 0.2em;color: black;border-radius: 0.25em;background-color: #f0f8ff;}#sk-container-id-1 input.sk-toggleable__control:checked~div.sk-toggleable__content {max-height: 200px;max-width: 100%;overflow: auto;}#sk-container-id-1 input.sk-toggleable__control:checked~label.sk-toggleable__label-arrow:before {content: \"▾\";}#sk-container-id-1 div.sk-estimator input.sk-toggleable__control:checked~label.sk-toggleable__label {background-color: #d4ebff;}#sk-container-id-1 div.sk-label input.sk-toggleable__control:checked~label.sk-toggleable__label {background-color: #d4ebff;}#sk-container-id-1 input.sk-hidden--visually {border: 0;clip: rect(1px 1px 1px 1px);clip: rect(1px, 1px, 1px, 1px);height: 1px;margin: -1px;overflow: hidden;padding: 0;position: absolute;width: 1px;}#sk-container-id-1 div.sk-estimator {font-family: monospace;background-color: #f0f8ff;border: 1px dotted black;border-radius: 0.25em;box-sizing: border-box;margin-bottom: 0.5em;}#sk-container-id-1 div.sk-estimator:hover {background-color: #d4ebff;}#sk-container-id-1 div.sk-parallel-item::after {content: \"\";width: 100%;border-bottom: 1px solid gray;flex-grow: 1;}#sk-container-id-1 div.sk-label:hover label.sk-toggleable__label {background-color: #d4ebff;}#sk-container-id-1 div.sk-serial::before {content: \"\";position: absolute;border-left: 1px solid gray;box-sizing: border-box;top: 0;bottom: 0;left: 50%;z-index: 0;}#sk-container-id-1 div.sk-serial {display: flex;flex-direction: column;align-items: center;background-color: white;padding-right: 0.2em;padding-left: 0.2em;position: relative;}#sk-container-id-1 div.sk-item {position: relative;z-index: 1;}#sk-container-id-1 div.sk-parallel {display: flex;align-items: stretch;justify-content: center;background-color: white;position: relative;}#sk-container-id-1 div.sk-item::before, #sk-container-id-1 div.sk-parallel-item::before {content: \"\";position: absolute;border-left: 1px solid gray;box-sizing: border-box;top: 0;bottom: 0;left: 50%;z-index: -1;}#sk-container-id-1 div.sk-parallel-item {display: flex;flex-direction: column;z-index: 1;position: relative;background-color: white;}#sk-container-id-1 div.sk-parallel-item:first-child::after {align-self: flex-end;width: 50%;}#sk-container-id-1 div.sk-parallel-item:last-child::after {align-self: flex-start;width: 50%;}#sk-container-id-1 div.sk-parallel-item:only-child::after {width: 0;}#sk-container-id-1 div.sk-dashed-wrapped {border: 1px dashed gray;margin: 0 0.4em 0.5em 0.4em;box-sizing: border-box;padding-bottom: 0.4em;background-color: white;}#sk-container-id-1 div.sk-label label {font-family: monospace;font-weight: bold;display: inline-block;line-height: 1.2em;}#sk-container-id-1 div.sk-label-container {text-align: center;}#sk-container-id-1 div.sk-container {/* jupyter's `normalize.less` sets `[hidden] { display: none; }` but bootstrap.min.css set `[hidden] { display: none !important; }` so we also need the `!important` here to be able to override the default hidden behavior on the sphinx rendered scikit-learn.org. See: https://github.com/scikit-learn/scikit-learn/issues/21755 */display: inline-block !important;position: relative;}#sk-container-id-1 div.sk-text-repr-fallback {display: none;}</style><div id=\"sk-container-id-1\" class=\"sk-top-container\"><div class=\"sk-text-repr-fallback\"><pre>MultinomialNB()</pre><b>In a Jupyter environment, please rerun this cell to show the HTML representation or trust the notebook. <br />On GitHub, the HTML representation is unable to render, please try loading this page with nbviewer.org.</b></div><div class=\"sk-container\" hidden><div class=\"sk-item\"><div class=\"sk-estimator sk-toggleable\"><input class=\"sk-toggleable__control sk-hidden--visually\" id=\"sk-estimator-id-1\" type=\"checkbox\" checked><label for=\"sk-estimator-id-1\" class=\"sk-toggleable__label sk-toggleable__label-arrow\">MultinomialNB</label><div class=\"sk-toggleable__content\"><pre>MultinomialNB()</pre></div></div></div></div></div>"
      ],
      "text/plain": [
       "MultinomialNB()"
      ]
     },
     "execution_count": 29,
     "metadata": {},
     "output_type": "execute_result"
    }
   ],
   "source": [
    "mnb = clf.fit(train_X, train_y)\n",
    "mnb"
   ]
  },
  {
   "cell_type": "code",
   "execution_count": 30,
   "metadata": {},
   "outputs": [
    {
     "data": {
      "text/plain": [
       "(85, 764896)"
      ]
     },
     "execution_count": 30,
     "metadata": {},
     "output_type": "execute_result"
    }
   ],
   "source": [
    "mnb.feature_count_.shape"
   ]
  },
  {
   "cell_type": "code",
   "execution_count": 31,
   "metadata": {},
   "outputs": [
    {
     "data": {
      "text/plain": [
       "(85, 764896)"
      ]
     },
     "execution_count": 31,
     "metadata": {},
     "output_type": "execute_result"
    }
   ],
   "source": [
    "mnb.feature_log_prob_.shape"
   ]
  },
  {
   "cell_type": "code",
   "execution_count": 32,
   "metadata": {},
   "outputs": [
    {
     "data": {
      "text/plain": [
       "1.0"
      ]
     },
     "execution_count": 32,
     "metadata": {},
     "output_type": "execute_result"
    }
   ],
   "source": [
    "mnb.alpha"
   ]
  },
  {
   "cell_type": "code",
   "execution_count": 33,
   "metadata": {},
   "outputs": [
    {
     "data": {
      "text/plain": [
       "0.41609081934846986"
      ]
     },
     "execution_count": 33,
     "metadata": {},
     "output_type": "execute_result"
    }
   ],
   "source": [
    "mnb.score(val_X, val_y)"
   ]
  },
  {
   "cell_type": "code",
   "execution_count": 34,
   "metadata": {},
   "outputs": [
    {
     "data": {
      "text/plain": [
       "\u001b[0;31mSignature:\u001b[0m\n",
       "\u001b[0mto_onnx\u001b[0m\u001b[0;34m(\u001b[0m\u001b[0;34m\u001b[0m\n",
       "\u001b[0;34m\u001b[0m    \u001b[0mmodel\u001b[0m\u001b[0;34m,\u001b[0m\u001b[0;34m\u001b[0m\n",
       "\u001b[0;34m\u001b[0m    \u001b[0mX\u001b[0m\u001b[0;34m=\u001b[0m\u001b[0;32mNone\u001b[0m\u001b[0;34m,\u001b[0m\u001b[0;34m\u001b[0m\n",
       "\u001b[0;34m\u001b[0m    \u001b[0mname\u001b[0m\u001b[0;34m=\u001b[0m\u001b[0;32mNone\u001b[0m\u001b[0;34m,\u001b[0m\u001b[0;34m\u001b[0m\n",
       "\u001b[0;34m\u001b[0m    \u001b[0minitial_types\u001b[0m\u001b[0;34m=\u001b[0m\u001b[0;32mNone\u001b[0m\u001b[0;34m,\u001b[0m\u001b[0;34m\u001b[0m\n",
       "\u001b[0;34m\u001b[0m    \u001b[0mtarget_opset\u001b[0m\u001b[0;34m=\u001b[0m\u001b[0;32mNone\u001b[0m\u001b[0;34m,\u001b[0m\u001b[0;34m\u001b[0m\n",
       "\u001b[0;34m\u001b[0m    \u001b[0moptions\u001b[0m\u001b[0;34m=\u001b[0m\u001b[0;32mNone\u001b[0m\u001b[0;34m,\u001b[0m\u001b[0;34m\u001b[0m\n",
       "\u001b[0;34m\u001b[0m    \u001b[0mwhite_op\u001b[0m\u001b[0;34m=\u001b[0m\u001b[0;32mNone\u001b[0m\u001b[0;34m,\u001b[0m\u001b[0;34m\u001b[0m\n",
       "\u001b[0;34m\u001b[0m    \u001b[0mblack_op\u001b[0m\u001b[0;34m=\u001b[0m\u001b[0;32mNone\u001b[0m\u001b[0;34m,\u001b[0m\u001b[0;34m\u001b[0m\n",
       "\u001b[0;34m\u001b[0m    \u001b[0mfinal_types\u001b[0m\u001b[0;34m=\u001b[0m\u001b[0;32mNone\u001b[0m\u001b[0;34m,\u001b[0m\u001b[0;34m\u001b[0m\n",
       "\u001b[0;34m\u001b[0m    \u001b[0mdtype\u001b[0m\u001b[0;34m=\u001b[0m\u001b[0;32mNone\u001b[0m\u001b[0;34m,\u001b[0m\u001b[0;34m\u001b[0m\n",
       "\u001b[0;34m\u001b[0m    \u001b[0mnaming\u001b[0m\u001b[0;34m=\u001b[0m\u001b[0;32mNone\u001b[0m\u001b[0;34m,\u001b[0m\u001b[0;34m\u001b[0m\n",
       "\u001b[0;34m\u001b[0m    \u001b[0mmodel_optim\u001b[0m\u001b[0;34m=\u001b[0m\u001b[0;32mTrue\u001b[0m\u001b[0;34m,\u001b[0m\u001b[0;34m\u001b[0m\n",
       "\u001b[0;34m\u001b[0m    \u001b[0mverbose\u001b[0m\u001b[0;34m=\u001b[0m\u001b[0;36m0\u001b[0m\u001b[0;34m,\u001b[0m\u001b[0;34m\u001b[0m\n",
       "\u001b[0;34m\u001b[0m\u001b[0;34m)\u001b[0m\u001b[0;34m\u001b[0m\u001b[0;34m\u001b[0m\u001b[0m\n",
       "\u001b[0;31mDocstring:\u001b[0m\n",
       "Calls :func:`convert_sklearn` with simplified parameters.\n",
       "\n",
       ":param model: model to convert\n",
       ":param X: training set, can be None, it is used to infered the\n",
       "    input types (*initial_types*)\n",
       ":param initial_types: if X is None, then *initial_types* must be\n",
       "    defined\n",
       ":param target_opset: conversion with a specific target opset\n",
       ":param options: specific options given to converters\n",
       "    (see :ref:`l-conv-options`)\n",
       ":param name: name of the model\n",
       ":param white_op: white list of ONNX nodes allowed\n",
       "    while converting a pipeline, if empty, all are allowed\n",
       ":param black_op: black list of ONNX nodes allowed\n",
       "    while converting a pipeline, if empty, none are blacklisted\n",
       ":param final_types: a python list. Works the same way as initial_types\n",
       "    but not mandatory, it is used to overwrites the type\n",
       "    (if type is not None) and the name of every output.\n",
       ":param dtype: removed in version 1.7.5, dtype is now inferred from\n",
       "    input types, converters may add operators Cast to switch to\n",
       "    double when it is necessary\n",
       ":param naming: the user may want to change the way intermediate\n",
       "    are named, this parameter can be a string (a prefix) or a\n",
       "    function, which signature is the following:\n",
       "    `get_name(name, existing_names)`, the library will then\n",
       "    check this name is unique and modify it if not\n",
       ":param model_optim: enable or disable model optimisation\n",
       "    after the model was converted into onnx, it reduces the number\n",
       "    of identity nodes\n",
       ":param verbose: display progress while converting a model\n",
       ":return: converted model\n",
       "\n",
       "This function checks if the model inherits from class\n",
       ":class:`OnnxOperatorMixin`, it calls method *to_onnx*\n",
       "in that case otherwise it calls :func:`convert_sklearn`.\n",
       "\n",
       ".. versionchanged:: 1.10.0\n",
       "    Parameter *naming* was added.\n",
       "\u001b[0;31mFile:\u001b[0m      ~/.local/lib/python3.8/site-packages/skl2onnx/convert.py\n",
       "\u001b[0;31mType:\u001b[0m      function"
      ]
     },
     "metadata": {},
     "output_type": "display_data"
    }
   ],
   "source": [
    "from skl2onnx import to_onnx\n",
    "from skl2onnx.common.data_types import FloatTensorType, Int64TensorType, DoubleTensorType\n",
    "to_onnx?"
   ]
  },
  {
   "cell_type": "code",
   "execution_count": 35,
   "metadata": {},
   "outputs": [
    {
     "data": {
      "text/plain": [
       "764896"
      ]
     },
     "execution_count": 35,
     "metadata": {},
     "output_type": "execute_result"
    }
   ],
   "source": [
    "cols = X.shape[1]\n",
    "cols"
   ]
  },
  {
   "cell_type": "code",
   "execution_count": 36,
   "metadata": {},
   "outputs": [],
   "source": [
    "initial_types = [('float_input', FloatTensorType([None, cols]))]"
   ]
  },
  {
   "cell_type": "code",
   "execution_count": 37,
   "metadata": {},
   "outputs": [],
   "source": [
    "onnx_clf = to_onnx(clf, initial_types=initial_types)"
   ]
  },
  {
   "cell_type": "code",
   "execution_count": 38,
   "metadata": {},
   "outputs": [],
   "source": [
    "onnx_path = os.path.join(BASE_PATH, \"mnb-1.onnx\")\n",
    "with open(onnx_path, \"wb\") as f:\n",
    "    f.write(onnx_clf.SerializeToString())"
   ]
  },
  {
   "cell_type": "code",
   "execution_count": 39,
   "metadata": {},
   "outputs": [
    {
     "name": "stdout",
     "output_type": "stream",
     "text": [
      "ls: cannot access 'mnb-1.onnx': No such file or directory\n"
     ]
    }
   ],
   "source": [
    "!ls -lah mnb-1.onnx"
   ]
  },
  {
   "cell_type": "code",
   "execution_count": 40,
   "metadata": {},
   "outputs": [],
   "source": [
    "pred_y = clf.predict(val_X)"
   ]
  },
  {
   "cell_type": "code",
   "execution_count": 41,
   "metadata": {},
   "outputs": [
    {
     "data": {
      "text/plain": [
       "array(['TGLANG_LANGUAGE_OTHER', 'TGLANG_LANGUAGE_OTHER',\n",
       "       'TGLANG_LANGUAGE_OTHER', 'TGLANG_LANGUAGE_OTHER',\n",
       "       'TGLANG_LANGUAGE_OTHER', 'TGLANG_LANGUAGE_GAMS',\n",
       "       'TGLANG_LANGUAGE_REGEX', 'TGLANG_LANGUAGE_OTHER',\n",
       "       'TGLANG_LANGUAGE_OTHER', 'TGLANG_LANGUAGE_OTHER',\n",
       "       'TGLANG_LANGUAGE_OTHER', 'TGLANG_LANGUAGE_OTHER',\n",
       "       'TGLANG_LANGUAGE_OTHER', 'TGLANG_LANGUAGE_REGEX',\n",
       "       'TGLANG_LANGUAGE_OTHER', 'TGLANG_LANGUAGE_OTHER',\n",
       "       'TGLANG_LANGUAGE_OTHER', 'TGLANG_LANGUAGE_OTHER',\n",
       "       'TGLANG_LANGUAGE_OTHER', 'TGLANG_LANGUAGE_OTHER'], dtype='<U29')"
      ]
     },
     "execution_count": 41,
     "metadata": {},
     "output_type": "execute_result"
    }
   ],
   "source": [
    "pred_y[:20]"
   ]
  },
  {
   "cell_type": "code",
   "execution_count": 42,
   "metadata": {},
   "outputs": [
    {
     "data": {
      "text/plain": [
       "980          TGLANG_LANGUAGE_BASIC\n",
       "1240             TGLANG_LANGUAGE_C\n",
       "10825        TGLANG_LANGUAGE_OTHER\n",
       "1281             TGLANG_LANGUAGE_C\n",
       "10967        TGLANG_LANGUAGE_OTHER\n",
       "3253          TGLANG_LANGUAGE_GAMS\n",
       "15944        TGLANG_LANGUAGE_REGEX\n",
       "9226         TGLANG_LANGUAGE_OTHER\n",
       "13697        TGLANG_LANGUAGE_REGEX\n",
       "1862     TGLANG_LANGUAGE_CPLUSPLUS\n",
       "12214        TGLANG_LANGUAGE_OTHER\n",
       "12530        TGLANG_LANGUAGE_OTHER\n",
       "6436           TGLANG_LANGUAGE_SAS\n",
       "15478        TGLANG_LANGUAGE_REGEX\n",
       "15610        TGLANG_LANGUAGE_REGEX\n",
       "14486        TGLANG_LANGUAGE_REGEX\n",
       "12542        TGLANG_LANGUAGE_OTHER\n",
       "6367          TGLANG_LANGUAGE_RUST\n",
       "13667        TGLANG_LANGUAGE_REGEX\n",
       "11214        TGLANG_LANGUAGE_OTHER\n",
       "Name: class, dtype: object"
      ]
     },
     "execution_count": 42,
     "metadata": {},
     "output_type": "execute_result"
    }
   ],
   "source": [
    "val_y[:20]"
   ]
  },
  {
   "cell_type": "code",
   "execution_count": 43,
   "metadata": {},
   "outputs": [
    {
     "name": "stdout",
     "output_type": "stream",
     "text": [
      "Requirement already satisfied: onnxruntime in /home/sun/.local/lib/python3.8/site-packages (1.16.0)\n",
      "Requirement already satisfied: coloredlogs in /home/sun/.local/lib/python3.8/site-packages (from onnxruntime) (15.0.1)\n",
      "Requirement already satisfied: packaging in /home/sun/.local/lib/python3.8/site-packages (from onnxruntime) (23.2)\n",
      "Requirement already satisfied: protobuf in /home/sun/.local/lib/python3.8/site-packages (from onnxruntime) (4.24.4)\n",
      "Requirement already satisfied: numpy>=1.21.6 in /home/sun/.local/lib/python3.8/site-packages (from onnxruntime) (1.24.4)\n",
      "Requirement already satisfied: flatbuffers in /home/sun/.local/lib/python3.8/site-packages (from onnxruntime) (23.5.26)\n",
      "Requirement already satisfied: sympy in /home/sun/.local/lib/python3.8/site-packages (from onnxruntime) (1.12)\n",
      "Requirement already satisfied: humanfriendly>=9.1 in /home/sun/.local/lib/python3.8/site-packages (from coloredlogs->onnxruntime) (10.0)\n",
      "Requirement already satisfied: mpmath>=0.19 in /home/sun/.local/lib/python3.8/site-packages (from sympy->onnxruntime) (1.3.0)\n"
     ]
    }
   ],
   "source": [
    "!pip3 install onnxruntime"
   ]
  },
  {
   "cell_type": "code",
   "execution_count": 44,
   "metadata": {},
   "outputs": [],
   "source": [
    "import onnxruntime as rt"
   ]
  },
  {
   "cell_type": "code",
   "execution_count": 45,
   "metadata": {},
   "outputs": [],
   "source": [
    "sess = rt.InferenceSession(onnx_path, providers=[\"CPUExecutionProvider\"])\n",
    "input_name = sess.get_inputs()[0].name\n",
    "label_name = sess.get_outputs()[0].name"
   ]
  },
  {
   "cell_type": "code",
   "execution_count": 46,
   "metadata": {},
   "outputs": [
    {
     "data": {
      "text/plain": [
       "'float_input'"
      ]
     },
     "execution_count": 46,
     "metadata": {},
     "output_type": "execute_result"
    }
   ],
   "source": [
    "input_name"
   ]
  },
  {
   "cell_type": "code",
   "execution_count": 47,
   "metadata": {},
   "outputs": [
    {
     "data": {
      "text/plain": [
       "'output_label'"
      ]
     },
     "execution_count": 47,
     "metadata": {},
     "output_type": "execute_result"
    }
   ],
   "source": [
    "label_name"
   ]
  },
  {
   "cell_type": "code",
   "execution_count": 48,
   "metadata": {},
   "outputs": [],
   "source": [
    "t_val_X = val_X[:1000].toarray().astype('float32')"
   ]
  },
  {
   "cell_type": "code",
   "execution_count": 49,
   "metadata": {},
   "outputs": [
    {
     "data": {
      "text/plain": [
       "((1000, 764896), dtype('float32'))"
      ]
     },
     "execution_count": 49,
     "metadata": {},
     "output_type": "execute_result"
    }
   ],
   "source": [
    "t_val_X.shape, t_val_X.dtype"
   ]
  },
  {
   "cell_type": "code",
   "execution_count": 50,
   "metadata": {},
   "outputs": [],
   "source": [
    "pred_onx = sess.run([label_name], {input_name: t_val_X})[0]"
   ]
  },
  {
   "cell_type": "code",
   "execution_count": 51,
   "metadata": {},
   "outputs": [
    {
     "data": {
      "text/plain": [
       "array(['TGLANG_LANGUAGE_OTHER', 'TGLANG_LANGUAGE_OTHER',\n",
       "       'TGLANG_LANGUAGE_OTHER', 'TGLANG_LANGUAGE_OTHER',\n",
       "       'TGLANG_LANGUAGE_OTHER', 'TGLANG_LANGUAGE_GAMS',\n",
       "       'TGLANG_LANGUAGE_REGEX', 'TGLANG_LANGUAGE_OTHER',\n",
       "       'TGLANG_LANGUAGE_OTHER', 'TGLANG_LANGUAGE_OTHER',\n",
       "       'TGLANG_LANGUAGE_OTHER', 'TGLANG_LANGUAGE_OTHER',\n",
       "       'TGLANG_LANGUAGE_OTHER', 'TGLANG_LANGUAGE_REGEX',\n",
       "       'TGLANG_LANGUAGE_OTHER', 'TGLANG_LANGUAGE_OTHER',\n",
       "       'TGLANG_LANGUAGE_OTHER', 'TGLANG_LANGUAGE_OTHER',\n",
       "       'TGLANG_LANGUAGE_OTHER', 'TGLANG_LANGUAGE_OTHER'], dtype=object)"
      ]
     },
     "execution_count": 51,
     "metadata": {},
     "output_type": "execute_result"
    }
   ],
   "source": [
    "pred_onx[:20]"
   ]
  },
  {
   "cell_type": "code",
   "execution_count": 52,
   "metadata": {},
   "outputs": [
    {
     "data": {
      "text/plain": [
       "True"
      ]
     },
     "execution_count": 52,
     "metadata": {},
     "output_type": "execute_result"
    }
   ],
   "source": [
    "equals = pred_onx[:1000] == pred_y[:1000]\n",
    "sum(equals) == 1000"
   ]
  },
  {
   "cell_type": "code",
   "execution_count": 53,
   "metadata": {
    "colab": {
     "base_uri": "https://localhost:8080/"
    },
    "id": "9e-5S9FxsuXg",
    "outputId": "9b540145-bf01-4b92-f573-71054f79e050"
   },
   "outputs": [],
   "source": [
    "# test_folding = generate_folding(k_folds=K_FOLDS, df=data)\n",
    "\n",
    "# # k-fold cross validation\n",
    "# all_scores = []\n",
    "\n",
    "# for fold_num in tqdm(range(K_FOLDS)):\n",
    "#     current_test_fold = get_test_fold_for_iteration(test_folding, fold_num + 1)\n",
    "#     ps = PredefinedSplit(current_test_fold)\n",
    "#     # breakpoint()\n",
    "#     # print(pd.Series(current_test_fold).value_counts())\n",
    "#     scores = cross_val_score(clf, X, y, cv=ps)\n",
    "#     all_scores.extend(scores)\n",
    "\n",
    "# print(all_scores)"
   ]
  },
  {
   "cell_type": "code",
   "execution_count": 54,
   "metadata": {
    "colab": {
     "base_uri": "https://localhost:8080/"
    },
    "id": "5xSlN1GzZr9S",
    "outputId": "15ac5b3d-bd7e-4326-ef9b-ca3d4c3661bc"
   },
   "outputs": [
    {
     "name": "stdout",
     "output_type": "stream",
     "text": [
      "Requirement already satisfied: scikit-learn in /home/sun/.local/lib/python3.8/site-packages (1.3.1)\n",
      "Requirement already satisfied: onnx in /home/sun/.local/lib/python3.8/site-packages (1.14.1)\n",
      "Requirement already satisfied: onnxruntime in /home/sun/.local/lib/python3.8/site-packages (1.16.0)\n",
      "Requirement already satisfied: skl2onnx in /home/sun/.local/lib/python3.8/site-packages (1.15.0)\n",
      "Requirement already satisfied: scipy>=1.5.0 in /home/sun/.local/lib/python3.8/site-packages (from scikit-learn) (1.10.1)\n",
      "Requirement already satisfied: joblib>=1.1.1 in /home/sun/.local/lib/python3.8/site-packages (from scikit-learn) (1.3.2)\n",
      "Requirement already satisfied: threadpoolctl>=2.0.0 in /home/sun/.local/lib/python3.8/site-packages (from scikit-learn) (3.2.0)\n",
      "Requirement already satisfied: numpy<2.0,>=1.17.3 in /home/sun/.local/lib/python3.8/site-packages (from scikit-learn) (1.24.4)\n",
      "Requirement already satisfied: protobuf>=3.20.2 in /home/sun/.local/lib/python3.8/site-packages (from onnx) (4.24.4)\n",
      "Requirement already satisfied: typing-extensions>=3.6.2.1 in /home/sun/.local/lib/python3.8/site-packages (from onnx) (4.5.0)\n",
      "Requirement already satisfied: sympy in /home/sun/.local/lib/python3.8/site-packages (from onnxruntime) (1.12)\n",
      "Requirement already satisfied: flatbuffers in /home/sun/.local/lib/python3.8/site-packages (from onnxruntime) (23.5.26)\n",
      "Requirement already satisfied: coloredlogs in /home/sun/.local/lib/python3.8/site-packages (from onnxruntime) (15.0.1)\n",
      "Requirement already satisfied: packaging in /home/sun/.local/lib/python3.8/site-packages (from onnxruntime) (23.2)\n",
      "Requirement already satisfied: onnxconverter-common>=1.7.0 in /home/sun/.local/lib/python3.8/site-packages (from skl2onnx) (1.14.0)\n",
      "Requirement already satisfied: mpmath>=0.19 in /home/sun/.local/lib/python3.8/site-packages (from sympy->onnxruntime) (1.3.0)\n",
      "Requirement already satisfied: humanfriendly>=9.1 in /home/sun/.local/lib/python3.8/site-packages (from coloredlogs->onnxruntime) (10.0)\n"
     ]
    }
   ],
   "source": [
    "!pip install scikit-learn onnx onnxruntime skl2onnx"
   ]
  },
  {
   "cell_type": "code",
   "execution_count": 60,
   "metadata": {
    "id": "x_EFHB2yZBmX"
   },
   "outputs": [],
   "source": [
    "import csv"
   ]
  },
  {
   "cell_type": "code",
   "execution_count": 69,
   "metadata": {},
   "outputs": [],
   "source": [
    "csv_path = os.path.join(BASE_PATH, \"inputs.csv\")\n",
    "with open(csv_path, 'w', newline='') as csvfile:\n",
    "    csvwriter = csv.writer(csvfile, delimiter=',', quotechar='\"')\n",
    "    csvwriter.writerows(t_val_X[:200])"
   ]
  },
  {
   "cell_type": "code",
   "execution_count": 70,
   "metadata": {},
   "outputs": [
    {
     "name": "stdout",
     "output_type": "stream",
     "text": [
      "200 /home/sun/Downloads/tg_challenge/inputs.csv\n"
     ]
    }
   ],
   "source": [
    "!wc -l {csv_path}"
   ]
  },
  {
   "cell_type": "markdown",
   "metadata": {
    "id": "ftyf8gL7Y21W"
   },
   "source": [
    "### TODO: per-class evaluation"
   ]
  },
  {
   "cell_type": "code",
   "execution_count": 55,
   "metadata": {
    "colab": {
     "base_uri": "https://localhost:8080/"
    },
    "id": "T4FTyEW80Pjw",
    "outputId": "92e567dd-4b11-4708-8ff3-d6f768cad5c4"
   },
   "outputs": [],
   "source": [
    "# from sklearn.model_selection import train_test_split\n",
    "# from sklearn.metrics import precision_score, recall_score, f1_score, classification_report\n",
    "\n",
    "\n",
    "# X = vectorizer.fit_transform(balanced_data['text'])\n",
    "# y = balanced_data['class']\n",
    "\n",
    "# train_X, val_X, train_y, val_y = train_test_split(X, y, random_state=42)\n",
    "# clf = MultinomialNB()\n",
    "# clf.fit(train_X, train_y)\n",
    "\n",
    "# pred_y = clf.predict(val_X)\n",
    "\n",
    "# # precision_per_class = precision_score(val_y, pred_y, average=None)\n",
    "# # recall_per_class = recall_score(val_y, pred_y, average=None)\n",
    "# # f1_per_class = f1_score(val_y, pred_y, average=None)\n",
    "\n",
    "# report = classification_report(val_y, pred_y, output_dict=True)\n",
    "\n"
   ]
  },
  {
   "cell_type": "code",
   "execution_count": 56,
   "metadata": {
    "id": "1eBJFFyT2gE3"
   },
   "outputs": [],
   "source": [
    "# report_df = pd.DataFrame(report).T.reset_index().rename(columns={'index': 'class'})\n",
    "# report_df\n",
    "\n",
    "# report_df[report_df['class'] == '']\n",
    "# data['class'].value_counts().sort_values()"
   ]
  },
  {
   "cell_type": "code",
   "execution_count": 57,
   "metadata": {
    "id": "aP1G9QI03WOW"
   },
   "outputs": [],
   "source": [
    "# report_df[report_df['class'] == 'TGLANG_LANGUAGE_REGEX'].reset_index()\n"
   ]
  },
  {
   "cell_type": "code",
   "execution_count": 58,
   "metadata": {
    "id": "ems4kAhBtZM8"
   },
   "outputs": [],
   "source": [
    "# for i, row in data.iterrows():\n",
    "#     if type(row['text']) == list:\n",
    "#         print(i)\n",
    "\n",
    "# data.loc[900, 'text']"
   ]
  },
  {
   "cell_type": "code",
   "execution_count": null,
   "metadata": {
    "id": "EffzT4B1swno"
   },
   "outputs": [],
   "source": []
  },
  {
   "cell_type": "code",
   "execution_count": null,
   "metadata": {
    "id": "Y92lRqlJtOCo"
   },
   "outputs": [],
   "source": []
  },
  {
   "cell_type": "code",
   "execution_count": null,
   "metadata": {},
   "outputs": [],
   "source": []
  }
 ],
 "metadata": {
  "colab": {
   "collapsed_sections": [
    "ftyf8gL7Y21W"
   ],
   "provenance": []
  },
  "kernelspec": {
   "display_name": "Python 3 (ipykernel)",
   "language": "python",
   "name": "python3"
  },
  "language_info": {
   "codemirror_mode": {
    "name": "ipython",
    "version": 3
   },
   "file_extension": ".py",
   "mimetype": "text/x-python",
   "name": "python",
   "nbconvert_exporter": "python",
   "pygments_lexer": "ipython3",
   "version": "3.8.10"
  }
 },
 "nbformat": 4,
 "nbformat_minor": 4
}
