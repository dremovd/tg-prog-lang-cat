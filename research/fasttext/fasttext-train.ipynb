{
 "cells": [
  {
   "cell_type": "code",
   "execution_count": 1,
   "id": "17055635-438b-4e75-979d-812709417edb",
   "metadata": {},
   "outputs": [
    {
     "name": "stdout",
     "output_type": "stream",
     "text": [
      "Requirement already satisfied: fasttext in /home/sun/.local/lib/python3.8/site-packages (0.9.2)\n",
      "Requirement already satisfied: scikit-learn in /home/sun/.local/lib/python3.8/site-packages (1.3.1)\n",
      "Requirement already satisfied: numpy in /home/sun/.local/lib/python3.8/site-packages (1.24.4)\n",
      "Requirement already satisfied: pandas in /home/sun/.local/lib/python3.8/site-packages (2.0.3)\n",
      "Requirement already satisfied: seaborn in /home/sun/.local/lib/python3.8/site-packages (0.13.0)\n",
      "Requirement already satisfied: pybind11>=2.2 in /home/sun/.local/lib/python3.8/site-packages (from fasttext) (2.11.1)\n",
      "Requirement already satisfied: setuptools>=0.7.0 in /usr/lib/python3/dist-packages (from fasttext) (45.2.0)\n",
      "Requirement already satisfied: joblib>=1.1.1 in /home/sun/.local/lib/python3.8/site-packages (from scikit-learn) (1.3.2)\n",
      "Requirement already satisfied: threadpoolctl>=2.0.0 in /home/sun/.local/lib/python3.8/site-packages (from scikit-learn) (3.2.0)\n",
      "Requirement already satisfied: scipy>=1.5.0 in /home/sun/.local/lib/python3.8/site-packages (from scikit-learn) (1.10.1)\n",
      "Requirement already satisfied: pytz>=2020.1 in /home/sun/.local/lib/python3.8/site-packages (from pandas) (2023.3.post1)\n",
      "Requirement already satisfied: tzdata>=2022.1 in /home/sun/.local/lib/python3.8/site-packages (from pandas) (2023.3)\n",
      "Requirement already satisfied: python-dateutil>=2.8.2 in /home/sun/.local/lib/python3.8/site-packages (from pandas) (2.8.2)\n",
      "Requirement already satisfied: matplotlib!=3.6.1,>=3.3 in /home/sun/.local/lib/python3.8/site-packages (from seaborn) (3.7.3)\n",
      "Requirement already satisfied: six>=1.5 in /home/sun/.local/lib/python3.8/site-packages (from python-dateutil>=2.8.2->pandas) (1.16.0)\n",
      "Requirement already satisfied: kiwisolver>=1.0.1 in /home/sun/.local/lib/python3.8/site-packages (from matplotlib!=3.6.1,>=3.3->seaborn) (1.4.5)\n",
      "Requirement already satisfied: pillow>=6.2.0 in /usr/lib/python3/dist-packages (from matplotlib!=3.6.1,>=3.3->seaborn) (7.0.0)\n",
      "Requirement already satisfied: pyparsing>=2.3.1 in /home/sun/.local/lib/python3.8/site-packages (from matplotlib!=3.6.1,>=3.3->seaborn) (3.1.1)\n",
      "Requirement already satisfied: importlib-resources>=3.2.0; python_version < \"3.10\" in /home/sun/.local/lib/python3.8/site-packages (from matplotlib!=3.6.1,>=3.3->seaborn) (5.12.0)\n",
      "Requirement already satisfied: packaging>=20.0 in /home/sun/.local/lib/python3.8/site-packages (from matplotlib!=3.6.1,>=3.3->seaborn) (23.2)\n",
      "Requirement already satisfied: fonttools>=4.22.0 in /home/sun/.local/lib/python3.8/site-packages (from matplotlib!=3.6.1,>=3.3->seaborn) (4.43.1)\n",
      "Requirement already satisfied: cycler>=0.10 in /home/sun/.local/lib/python3.8/site-packages (from matplotlib!=3.6.1,>=3.3->seaborn) (0.12.1)\n",
      "Requirement already satisfied: contourpy>=1.0.1 in /home/sun/.local/lib/python3.8/site-packages (from matplotlib!=3.6.1,>=3.3->seaborn) (1.1.1)\n",
      "Requirement already satisfied: zipp>=3.1.0; python_version < \"3.10\" in /home/sun/.local/lib/python3.8/site-packages (from importlib-resources>=3.2.0; python_version < \"3.10\"->matplotlib!=3.6.1,>=3.3->seaborn) (3.15.0)\n"
     ]
    }
   ],
   "source": [
    "!pip3 install fasttext scikit-learn numpy pandas seaborn"
   ]
  },
  {
   "cell_type": "code",
   "execution_count": 2,
   "id": "e9b7ea6d-be95-4abb-aca3-fb54b7c21474",
   "metadata": {},
   "outputs": [],
   "source": [
    "import numpy as np, fasttext as ft, pandas as pd, seaborn as sns, sklearn as sk, os, gzip as gz, json"
   ]
  },
  {
   "cell_type": "code",
   "execution_count": 3,
   "id": "7c0828ed-77fd-4ac4-a695-6b9b1b9daf76",
   "metadata": {},
   "outputs": [],
   "source": [
    "ENUM_DATA = '''  TGLANG_LANGUAGE_OTHER,\n",
    "  TGLANG_LANGUAGE_1S_ENTERPRISE,\n",
    "  TGLANG_LANGUAGE_ABAP,\n",
    "  TGLANG_LANGUAGE_ACTIONSCRIPT,\n",
    "  TGLANG_LANGUAGE_ADA,\n",
    "  TGLANG_LANGUAGE_APACHE_GROOVY,\n",
    "  TGLANG_LANGUAGE_APEX,\n",
    "  TGLANG_LANGUAGE_APPLESCRIPT,\n",
    "  TGLANG_LANGUAGE_ASP,\n",
    "  TGLANG_LANGUAGE_ASSEMBLY,\n",
    "  TGLANG_LANGUAGE_AUTOHOTKEY,\n",
    "  TGLANG_LANGUAGE_AWK,\n",
    "  TGLANG_LANGUAGE_BASIC,\n",
    "  TGLANG_LANGUAGE_BATCH,\n",
    "  TGLANG_LANGUAGE_BISON,\n",
    "  TGLANG_LANGUAGE_C,\n",
    "  TGLANG_LANGUAGE_CLOJURE,\n",
    "  TGLANG_LANGUAGE_CMAKE,\n",
    "  TGLANG_LANGUAGE_COBOL,\n",
    "  TGLANG_LANGUAGE_COFFESCRIPT,\n",
    "  TGLANG_LANGUAGE_COMMON_LISP,\n",
    "  TGLANG_LANGUAGE_CPLUSPLUS,\n",
    "  TGLANG_LANGUAGE_CRYSTAL,\n",
    "  TGLANG_LANGUAGE_CSHARP,\n",
    "  TGLANG_LANGUAGE_CSS,\n",
    "  TGLANG_LANGUAGE_CSV,\n",
    "  TGLANG_LANGUAGE_D,\n",
    "  TGLANG_LANGUAGE_DART,\n",
    "  TGLANG_LANGUAGE_DELPHI,\n",
    "  TGLANG_LANGUAGE_DOCKER,\n",
    "  TGLANG_LANGUAGE_ELIXIR,\n",
    "  TGLANG_LANGUAGE_ELM,\n",
    "  TGLANG_LANGUAGE_ERLANG,\n",
    "  TGLANG_LANGUAGE_FIFT,\n",
    "  TGLANG_LANGUAGE_FORTH,\n",
    "  TGLANG_LANGUAGE_FORTRAN,\n",
    "  TGLANG_LANGUAGE_FSHARP,\n",
    "  TGLANG_LANGUAGE_FUNC,\n",
    "  TGLANG_LANGUAGE_GAMS,\n",
    "  TGLANG_LANGUAGE_GO,\n",
    "  TGLANG_LANGUAGE_GRADLE,\n",
    "  TGLANG_LANGUAGE_GRAPHQL,\n",
    "  TGLANG_LANGUAGE_HACK,\n",
    "  TGLANG_LANGUAGE_HASKELL,\n",
    "  TGLANG_LANGUAGE_HTML,\n",
    "  TGLANG_LANGUAGE_ICON,\n",
    "  TGLANG_LANGUAGE_IDL,\n",
    "  TGLANG_LANGUAGE_INI,\n",
    "  TGLANG_LANGUAGE_JAVA,\n",
    "  TGLANG_LANGUAGE_JAVASCRIPT,\n",
    "  TGLANG_LANGUAGE_JSON,\n",
    "  TGLANG_LANGUAGE_JULIA,\n",
    "  TGLANG_LANGUAGE_KEYMAN,\n",
    "  TGLANG_LANGUAGE_KOTLIN,\n",
    "  TGLANG_LANGUAGE_LATEX,\n",
    "  TGLANG_LANGUAGE_LISP,\n",
    "  TGLANG_LANGUAGE_LOGO,\n",
    "  TGLANG_LANGUAGE_LUA,\n",
    "  TGLANG_LANGUAGE_MAKEFILE,\n",
    "  TGLANG_LANGUAGE_MARKDOWN,\n",
    "  TGLANG_LANGUAGE_MATLAB,\n",
    "  TGLANG_LANGUAGE_NGINX,\n",
    "  TGLANG_LANGUAGE_NIM,\n",
    "  TGLANG_LANGUAGE_OBJECTIVE_C,\n",
    "  TGLANG_LANGUAGE_OCAML,\n",
    "  TGLANG_LANGUAGE_OPENEDGE_ABL,\n",
    "  TGLANG_LANGUAGE_PASCAL,\n",
    "  TGLANG_LANGUAGE_PERL,\n",
    "  TGLANG_LANGUAGE_PHP,\n",
    "  TGLANG_LANGUAGE_PL_SQL,\n",
    "  TGLANG_LANGUAGE_POWERSHELL,\n",
    "  TGLANG_LANGUAGE_PROLOG,\n",
    "  TGLANG_LANGUAGE_PROTOBUF,\n",
    "  TGLANG_LANGUAGE_PYTHON,\n",
    "  TGLANG_LANGUAGE_QML,\n",
    "  TGLANG_LANGUAGE_R,\n",
    "  TGLANG_LANGUAGE_RAKU,\n",
    "  TGLANG_LANGUAGE_REGEX,\n",
    "  TGLANG_LANGUAGE_RUBY,\n",
    "  TGLANG_LANGUAGE_RUST,\n",
    "  TGLANG_LANGUAGE_SAS,\n",
    "  TGLANG_LANGUAGE_SCALA,\n",
    "  TGLANG_LANGUAGE_SCHEME,\n",
    "  TGLANG_LANGUAGE_SHELL,\n",
    "  TGLANG_LANGUAGE_SMALLTALK,\n",
    "  TGLANG_LANGUAGE_SOLIDITY,\n",
    "  TGLANG_LANGUAGE_SQL,\n",
    "  TGLANG_LANGUAGE_SWIFT,\n",
    "  TGLANG_LANGUAGE_TCL,\n",
    "  TGLANG_LANGUAGE_TEXTILE,\n",
    "  TGLANG_LANGUAGE_TL,\n",
    "  TGLANG_LANGUAGE_TYPESCRIPT,\n",
    "  TGLANG_LANGUAGE_UNREALSCRIPT,\n",
    "  TGLANG_LANGUAGE_VALA,\n",
    "  TGLANG_LANGUAGE_VBSCRIPT,\n",
    "  TGLANG_LANGUAGE_VERILOG,\n",
    "  TGLANG_LANGUAGE_VISUAL_BASIC,\n",
    "  TGLANG_LANGUAGE_WOLFRAM,\n",
    "  TGLANG_LANGUAGE_XML,\n",
    "  TGLANG_LANGUAGE_YAML'''\n",
    "id_to_cat = dict((i, c.replace(',', '').strip()) for i, c in enumerate(ENUM_DATA.split(\"\\n\")))\n",
    "cat_to_id = {v: k for k, v in id_to_cat.items()}"
   ]
  },
  {
   "cell_type": "code",
   "execution_count": 4,
   "id": "2f91743a-e57e-414a-a7d5-1811b439d240",
   "metadata": {},
   "outputs": [
    {
     "data": {
      "text/plain": [
       "{0: 'TGLANG_LANGUAGE_OTHER',\n",
       " 1: 'TGLANG_LANGUAGE_1S_ENTERPRISE',\n",
       " 2: 'TGLANG_LANGUAGE_ABAP',\n",
       " 3: 'TGLANG_LANGUAGE_ACTIONSCRIPT',\n",
       " 4: 'TGLANG_LANGUAGE_ADA',\n",
       " 5: 'TGLANG_LANGUAGE_APACHE_GROOVY',\n",
       " 6: 'TGLANG_LANGUAGE_APEX',\n",
       " 7: 'TGLANG_LANGUAGE_APPLESCRIPT',\n",
       " 8: 'TGLANG_LANGUAGE_ASP',\n",
       " 9: 'TGLANG_LANGUAGE_ASSEMBLY',\n",
       " 10: 'TGLANG_LANGUAGE_AUTOHOTKEY',\n",
       " 11: 'TGLANG_LANGUAGE_AWK',\n",
       " 12: 'TGLANG_LANGUAGE_BASIC',\n",
       " 13: 'TGLANG_LANGUAGE_BATCH',\n",
       " 14: 'TGLANG_LANGUAGE_BISON',\n",
       " 15: 'TGLANG_LANGUAGE_C',\n",
       " 16: 'TGLANG_LANGUAGE_CLOJURE',\n",
       " 17: 'TGLANG_LANGUAGE_CMAKE',\n",
       " 18: 'TGLANG_LANGUAGE_COBOL',\n",
       " 19: 'TGLANG_LANGUAGE_COFFESCRIPT',\n",
       " 20: 'TGLANG_LANGUAGE_COMMON_LISP',\n",
       " 21: 'TGLANG_LANGUAGE_CPLUSPLUS',\n",
       " 22: 'TGLANG_LANGUAGE_CRYSTAL',\n",
       " 23: 'TGLANG_LANGUAGE_CSHARP',\n",
       " 24: 'TGLANG_LANGUAGE_CSS',\n",
       " 25: 'TGLANG_LANGUAGE_CSV',\n",
       " 26: 'TGLANG_LANGUAGE_D',\n",
       " 27: 'TGLANG_LANGUAGE_DART',\n",
       " 28: 'TGLANG_LANGUAGE_DELPHI',\n",
       " 29: 'TGLANG_LANGUAGE_DOCKER',\n",
       " 30: 'TGLANG_LANGUAGE_ELIXIR',\n",
       " 31: 'TGLANG_LANGUAGE_ELM',\n",
       " 32: 'TGLANG_LANGUAGE_ERLANG',\n",
       " 33: 'TGLANG_LANGUAGE_FIFT',\n",
       " 34: 'TGLANG_LANGUAGE_FORTH',\n",
       " 35: 'TGLANG_LANGUAGE_FORTRAN',\n",
       " 36: 'TGLANG_LANGUAGE_FSHARP',\n",
       " 37: 'TGLANG_LANGUAGE_FUNC',\n",
       " 38: 'TGLANG_LANGUAGE_GAMS',\n",
       " 39: 'TGLANG_LANGUAGE_GO',\n",
       " 40: 'TGLANG_LANGUAGE_GRADLE',\n",
       " 41: 'TGLANG_LANGUAGE_GRAPHQL',\n",
       " 42: 'TGLANG_LANGUAGE_HACK',\n",
       " 43: 'TGLANG_LANGUAGE_HASKELL',\n",
       " 44: 'TGLANG_LANGUAGE_HTML',\n",
       " 45: 'TGLANG_LANGUAGE_ICON',\n",
       " 46: 'TGLANG_LANGUAGE_IDL',\n",
       " 47: 'TGLANG_LANGUAGE_INI',\n",
       " 48: 'TGLANG_LANGUAGE_JAVA',\n",
       " 49: 'TGLANG_LANGUAGE_JAVASCRIPT',\n",
       " 50: 'TGLANG_LANGUAGE_JSON',\n",
       " 51: 'TGLANG_LANGUAGE_JULIA',\n",
       " 52: 'TGLANG_LANGUAGE_KEYMAN',\n",
       " 53: 'TGLANG_LANGUAGE_KOTLIN',\n",
       " 54: 'TGLANG_LANGUAGE_LATEX',\n",
       " 55: 'TGLANG_LANGUAGE_LISP',\n",
       " 56: 'TGLANG_LANGUAGE_LOGO',\n",
       " 57: 'TGLANG_LANGUAGE_LUA',\n",
       " 58: 'TGLANG_LANGUAGE_MAKEFILE',\n",
       " 59: 'TGLANG_LANGUAGE_MARKDOWN',\n",
       " 60: 'TGLANG_LANGUAGE_MATLAB',\n",
       " 61: 'TGLANG_LANGUAGE_NGINX',\n",
       " 62: 'TGLANG_LANGUAGE_NIM',\n",
       " 63: 'TGLANG_LANGUAGE_OBJECTIVE_C',\n",
       " 64: 'TGLANG_LANGUAGE_OCAML',\n",
       " 65: 'TGLANG_LANGUAGE_OPENEDGE_ABL',\n",
       " 66: 'TGLANG_LANGUAGE_PASCAL',\n",
       " 67: 'TGLANG_LANGUAGE_PERL',\n",
       " 68: 'TGLANG_LANGUAGE_PHP',\n",
       " 69: 'TGLANG_LANGUAGE_PL_SQL',\n",
       " 70: 'TGLANG_LANGUAGE_POWERSHELL',\n",
       " 71: 'TGLANG_LANGUAGE_PROLOG',\n",
       " 72: 'TGLANG_LANGUAGE_PROTOBUF',\n",
       " 73: 'TGLANG_LANGUAGE_PYTHON',\n",
       " 74: 'TGLANG_LANGUAGE_QML',\n",
       " 75: 'TGLANG_LANGUAGE_R',\n",
       " 76: 'TGLANG_LANGUAGE_RAKU',\n",
       " 77: 'TGLANG_LANGUAGE_REGEX',\n",
       " 78: 'TGLANG_LANGUAGE_RUBY',\n",
       " 79: 'TGLANG_LANGUAGE_RUST',\n",
       " 80: 'TGLANG_LANGUAGE_SAS',\n",
       " 81: 'TGLANG_LANGUAGE_SCALA',\n",
       " 82: 'TGLANG_LANGUAGE_SCHEME',\n",
       " 83: 'TGLANG_LANGUAGE_SHELL',\n",
       " 84: 'TGLANG_LANGUAGE_SMALLTALK',\n",
       " 85: 'TGLANG_LANGUAGE_SOLIDITY',\n",
       " 86: 'TGLANG_LANGUAGE_SQL',\n",
       " 87: 'TGLANG_LANGUAGE_SWIFT',\n",
       " 88: 'TGLANG_LANGUAGE_TCL',\n",
       " 89: 'TGLANG_LANGUAGE_TEXTILE',\n",
       " 90: 'TGLANG_LANGUAGE_TL',\n",
       " 91: 'TGLANG_LANGUAGE_TYPESCRIPT',\n",
       " 92: 'TGLANG_LANGUAGE_UNREALSCRIPT',\n",
       " 93: 'TGLANG_LANGUAGE_VALA',\n",
       " 94: 'TGLANG_LANGUAGE_VBSCRIPT',\n",
       " 95: 'TGLANG_LANGUAGE_VERILOG',\n",
       " 96: 'TGLANG_LANGUAGE_VISUAL_BASIC',\n",
       " 97: 'TGLANG_LANGUAGE_WOLFRAM',\n",
       " 98: 'TGLANG_LANGUAGE_XML',\n",
       " 99: 'TGLANG_LANGUAGE_YAML'}"
      ]
     },
     "execution_count": 4,
     "metadata": {},
     "output_type": "execute_result"
    }
   ],
   "source": [
    "id_to_cat"
   ]
  },
  {
   "cell_type": "code",
   "execution_count": 5,
   "id": "666ac517-278a-4875-b45e-406af1090c80",
   "metadata": {},
   "outputs": [
    {
     "data": {
      "text/plain": [
       "{'TGLANG_LANGUAGE_OTHER': 0,\n",
       " 'TGLANG_LANGUAGE_1S_ENTERPRISE': 1,\n",
       " 'TGLANG_LANGUAGE_ABAP': 2,\n",
       " 'TGLANG_LANGUAGE_ACTIONSCRIPT': 3,\n",
       " 'TGLANG_LANGUAGE_ADA': 4,\n",
       " 'TGLANG_LANGUAGE_APACHE_GROOVY': 5,\n",
       " 'TGLANG_LANGUAGE_APEX': 6,\n",
       " 'TGLANG_LANGUAGE_APPLESCRIPT': 7,\n",
       " 'TGLANG_LANGUAGE_ASP': 8,\n",
       " 'TGLANG_LANGUAGE_ASSEMBLY': 9,\n",
       " 'TGLANG_LANGUAGE_AUTOHOTKEY': 10,\n",
       " 'TGLANG_LANGUAGE_AWK': 11,\n",
       " 'TGLANG_LANGUAGE_BASIC': 12,\n",
       " 'TGLANG_LANGUAGE_BATCH': 13,\n",
       " 'TGLANG_LANGUAGE_BISON': 14,\n",
       " 'TGLANG_LANGUAGE_C': 15,\n",
       " 'TGLANG_LANGUAGE_CLOJURE': 16,\n",
       " 'TGLANG_LANGUAGE_CMAKE': 17,\n",
       " 'TGLANG_LANGUAGE_COBOL': 18,\n",
       " 'TGLANG_LANGUAGE_COFFESCRIPT': 19,\n",
       " 'TGLANG_LANGUAGE_COMMON_LISP': 20,\n",
       " 'TGLANG_LANGUAGE_CPLUSPLUS': 21,\n",
       " 'TGLANG_LANGUAGE_CRYSTAL': 22,\n",
       " 'TGLANG_LANGUAGE_CSHARP': 23,\n",
       " 'TGLANG_LANGUAGE_CSS': 24,\n",
       " 'TGLANG_LANGUAGE_CSV': 25,\n",
       " 'TGLANG_LANGUAGE_D': 26,\n",
       " 'TGLANG_LANGUAGE_DART': 27,\n",
       " 'TGLANG_LANGUAGE_DELPHI': 28,\n",
       " 'TGLANG_LANGUAGE_DOCKER': 29,\n",
       " 'TGLANG_LANGUAGE_ELIXIR': 30,\n",
       " 'TGLANG_LANGUAGE_ELM': 31,\n",
       " 'TGLANG_LANGUAGE_ERLANG': 32,\n",
       " 'TGLANG_LANGUAGE_FIFT': 33,\n",
       " 'TGLANG_LANGUAGE_FORTH': 34,\n",
       " 'TGLANG_LANGUAGE_FORTRAN': 35,\n",
       " 'TGLANG_LANGUAGE_FSHARP': 36,\n",
       " 'TGLANG_LANGUAGE_FUNC': 37,\n",
       " 'TGLANG_LANGUAGE_GAMS': 38,\n",
       " 'TGLANG_LANGUAGE_GO': 39,\n",
       " 'TGLANG_LANGUAGE_GRADLE': 40,\n",
       " 'TGLANG_LANGUAGE_GRAPHQL': 41,\n",
       " 'TGLANG_LANGUAGE_HACK': 42,\n",
       " 'TGLANG_LANGUAGE_HASKELL': 43,\n",
       " 'TGLANG_LANGUAGE_HTML': 44,\n",
       " 'TGLANG_LANGUAGE_ICON': 45,\n",
       " 'TGLANG_LANGUAGE_IDL': 46,\n",
       " 'TGLANG_LANGUAGE_INI': 47,\n",
       " 'TGLANG_LANGUAGE_JAVA': 48,\n",
       " 'TGLANG_LANGUAGE_JAVASCRIPT': 49,\n",
       " 'TGLANG_LANGUAGE_JSON': 50,\n",
       " 'TGLANG_LANGUAGE_JULIA': 51,\n",
       " 'TGLANG_LANGUAGE_KEYMAN': 52,\n",
       " 'TGLANG_LANGUAGE_KOTLIN': 53,\n",
       " 'TGLANG_LANGUAGE_LATEX': 54,\n",
       " 'TGLANG_LANGUAGE_LISP': 55,\n",
       " 'TGLANG_LANGUAGE_LOGO': 56,\n",
       " 'TGLANG_LANGUAGE_LUA': 57,\n",
       " 'TGLANG_LANGUAGE_MAKEFILE': 58,\n",
       " 'TGLANG_LANGUAGE_MARKDOWN': 59,\n",
       " 'TGLANG_LANGUAGE_MATLAB': 60,\n",
       " 'TGLANG_LANGUAGE_NGINX': 61,\n",
       " 'TGLANG_LANGUAGE_NIM': 62,\n",
       " 'TGLANG_LANGUAGE_OBJECTIVE_C': 63,\n",
       " 'TGLANG_LANGUAGE_OCAML': 64,\n",
       " 'TGLANG_LANGUAGE_OPENEDGE_ABL': 65,\n",
       " 'TGLANG_LANGUAGE_PASCAL': 66,\n",
       " 'TGLANG_LANGUAGE_PERL': 67,\n",
       " 'TGLANG_LANGUAGE_PHP': 68,\n",
       " 'TGLANG_LANGUAGE_PL_SQL': 69,\n",
       " 'TGLANG_LANGUAGE_POWERSHELL': 70,\n",
       " 'TGLANG_LANGUAGE_PROLOG': 71,\n",
       " 'TGLANG_LANGUAGE_PROTOBUF': 72,\n",
       " 'TGLANG_LANGUAGE_PYTHON': 73,\n",
       " 'TGLANG_LANGUAGE_QML': 74,\n",
       " 'TGLANG_LANGUAGE_R': 75,\n",
       " 'TGLANG_LANGUAGE_RAKU': 76,\n",
       " 'TGLANG_LANGUAGE_REGEX': 77,\n",
       " 'TGLANG_LANGUAGE_RUBY': 78,\n",
       " 'TGLANG_LANGUAGE_RUST': 79,\n",
       " 'TGLANG_LANGUAGE_SAS': 80,\n",
       " 'TGLANG_LANGUAGE_SCALA': 81,\n",
       " 'TGLANG_LANGUAGE_SCHEME': 82,\n",
       " 'TGLANG_LANGUAGE_SHELL': 83,\n",
       " 'TGLANG_LANGUAGE_SMALLTALK': 84,\n",
       " 'TGLANG_LANGUAGE_SOLIDITY': 85,\n",
       " 'TGLANG_LANGUAGE_SQL': 86,\n",
       " 'TGLANG_LANGUAGE_SWIFT': 87,\n",
       " 'TGLANG_LANGUAGE_TCL': 88,\n",
       " 'TGLANG_LANGUAGE_TEXTILE': 89,\n",
       " 'TGLANG_LANGUAGE_TL': 90,\n",
       " 'TGLANG_LANGUAGE_TYPESCRIPT': 91,\n",
       " 'TGLANG_LANGUAGE_UNREALSCRIPT': 92,\n",
       " 'TGLANG_LANGUAGE_VALA': 93,\n",
       " 'TGLANG_LANGUAGE_VBSCRIPT': 94,\n",
       " 'TGLANG_LANGUAGE_VERILOG': 95,\n",
       " 'TGLANG_LANGUAGE_VISUAL_BASIC': 96,\n",
       " 'TGLANG_LANGUAGE_WOLFRAM': 97,\n",
       " 'TGLANG_LANGUAGE_XML': 98,\n",
       " 'TGLANG_LANGUAGE_YAML': 99}"
      ]
     },
     "execution_count": 5,
     "metadata": {},
     "output_type": "execute_result"
    }
   ],
   "source": [
    "cat_to_id"
   ]
  },
  {
   "cell_type": "code",
   "execution_count": 6,
   "id": "b051db2a-3def-4c27-9697-190a76da3129",
   "metadata": {},
   "outputs": [],
   "source": [
    "dt_path = os.path.abspath(\"../dataset/\")"
   ]
  },
  {
   "cell_type": "code",
   "execution_count": 7,
   "id": "97c8875d-bae1-4aa9-a105-c89bb0cbff2f",
   "metadata": {},
   "outputs": [
    {
     "name": "stdout",
     "output_type": "stream",
     "text": [
      "language_identification_dataset_all_clean.json.gz  val_set_all_clean.json.gz\n",
      "train_set_all_clean.json.gz\n"
     ]
    }
   ],
   "source": [
    "!ls {dt_path}"
   ]
  },
  {
   "cell_type": "code",
   "execution_count": 8,
   "id": "4f5ccff6-0b8f-47c1-97a2-c8bede0ce7de",
   "metadata": {},
   "outputs": [
    {
     "name": "stdout",
     "output_type": "stream",
     "text": [
      "/home/sun/Projects/tg-prog-lang-cat/research/dataset/train_set_all_clean.json.gz\n"
     ]
    }
   ],
   "source": [
    "train_path = os.path.join(dt_path, \"train_set_all_clean.json.gz\")\n",
    "!ls {train_path}"
   ]
  },
  {
   "cell_type": "code",
   "execution_count": 9,
   "id": "8f9b4b2f-a2e9-4325-8d4f-e097f61c2a0c",
   "metadata": {},
   "outputs": [
    {
     "name": "stdout",
     "output_type": "stream",
     "text": [
      "/home/sun/Projects/tg-prog-lang-cat/research/dataset/val_set_all_clean.json.gz\n"
     ]
    }
   ],
   "source": [
    "val_path = os.path.join(dt_path, \"val_set_all_clean.json.gz\")\n",
    "!ls {val_path}"
   ]
  },
  {
   "cell_type": "code",
   "execution_count": 10,
   "id": "7cd378e8-e9d7-4ba3-b78e-42bf1191b9ec",
   "metadata": {},
   "outputs": [
    {
     "name": "stdout",
     "output_type": "stream",
     "text": [
      "{\n",
      "  \"text\": \"\\\"! ABAP Unit test utilities\\nCLASS ztcl_alog_test_utl DEFINITION\\n  PUBLIC\\n  FINAL\\n  CREATE PRIVATE\\n  FOR TESTING.\\n\\n  PUBLIC SECTION.\\n    CLASS-METHODS:\\n      \\\"! @parameter rv_text | Random text between 1 and 200 characters long\\n      get_random_log_text RETURNING VALUE(rv_text) TYPE string,\\n      \\\"! @parameter ro_type | Random log entry type\\n      get_random_log_type RETURNING VALUE(ro_type) TYPE REF TO zcl_alog_entry_type.\\n  PROTECTED SECTION.\\n  PRIVATE SECTION.\\nENDCLASS.\\n\\n\\n\\nCLASS ztcl_alog_test_utl IMPLEMENTATION.\\n  METHOD get_random_log_text.\\n    STATICS: so_rnd TYPE REF TO cl_abap_random_int.\\n\\n    IF so_rnd IS NOT BOUND.\\n      so_rnd = cl_abap_random_int=>create( min = 1 max = 200 ).\\n    ENDIF.\\n\\n    CALL FUNCTION 'GENERAL_GET_RANDOM_STRING'\\n      EXPORTING\\n        number_chars  = so_rnd->get_next( )\\n      IMPORTING\\n        random_string = rv_text.\\n  ENDMETHOD.\\n\\n  METHOD get_random_log_type.\\n    STATICS: so_rnd TYPE REF TO cl_abap_random_int.\\n\\n    IF so_rnd IS NOT BOUND.\\n      so_rnd = cl_abap_random_int=>create( min = 1 max = 4 ).\\n    ENDIF.\\n\\n    ro_type = SWITCH #( LET rnd = so_rnd->get_next( ) IN rnd\\nWHEN 1 THEN zcl_alog_entry_type=>go_info\\nWHEN 2 THEN zcl_alog_entry_type=>go_warning\\nWHEN 3 THEN zcl_alog_entry_type=>go_error\\nWHEN 4 THEN zcl_alog_entry_type=>go_debug ).\\n  ENDMETHOD.\\nENDCLASS.\\n\",\n",
      "  \"class\": \"TGLANG_LANGUAGE_ABAP\"\n",
      "}\n",
      "{\n",
      "  \"text\": \"\\n----\\n--GNAT ncurses Binding Samples--\\n----\\n--Sample--\\n----\\n--S P E C--\\n----\\n\\n----\\n-- Permission is hereby granted, free of charge, to any person obtaining a  --\\n-- copy of this software and associated documentation files (the--\\n-- \\\"Software\\\"), to deal in the Software without restriction, including      --\\n-- without limitation the rights to use, copy, modify, merge, publish,      --\\n-- copies of the Software, and to permit persons to whom the Software is    --\\n-- furnished to do so, subject to the following conditions:--\\n----\\n-- in all copies or substantial portions of the Software.--\\n----\\n-- THE SOFTWARE IS PROVIDED \\\"AS IS\\\", WITHOUT WARRANTY OF ANY KIND, EXPRESS  --\\n-- OR IMPLIED, INCLUDING BUT NOT LIMITED TO THE WARRANTIES OF--\\n-- MERCHANTABILITY, FITNESS FOR A PARTICULAR PURPOSE AND NONINFRINGEMENT.   --\\n-- DAMAGES OR OTHER LIABILITY, WHETHER IN AN ACTION OF CONTRACT, TORT OR    --\\n-- OTHERWISE, ARISING FROM, OUT OF OR IN CONNECTION WITH THE SOFTWARE OR    --\\n-- THE USE OR OTHER DEALINGS IN THE SOFTWARE.--\\n----\\n-- holders shall not be used in advertising or otherwise to promote the     --\\n-- sale, use or other dealings in this Software without prior written       --\\n-- authorization.--\\n\\n--  Author:  Juergen Pfeifer, 1996\\n--  Version Control\\n--  $Revision: 1.10 $\\n--  Binding Version 01.00\\n\\npackage Sample is\\n   procedure Whow;\\nend Sample;\\n\",\n",
      "  \"class\": \"TGLANG_LANGUAGE_ADA\"\n",
      "}\n",
      "Error: writing output failed: Broken pipe\n"
     ]
    }
   ],
   "source": [
    "!zcat {val_path} | jq .[] | head -8"
   ]
  },
  {
   "cell_type": "code",
   "execution_count": 11,
   "id": "1e62a7c6-01c9-4f02-ac4d-8ff2ebf7b0a1",
   "metadata": {},
   "outputs": [
    {
     "name": "stdout",
     "output_type": "stream",
     "text": [
      "total 85M\n",
      "drwxrwxr-x 2 sun sun 4,0K жов 14 15:30 .\n",
      "drwxrwxr-x 4 sun sun 4,0K жов 14 18:18 ..\n",
      "-rw-rw-r-- 1 sun sun  62M жов 14 18:17 train_set_all_clean.ft_input\n",
      "-rw-rw-r-- 1 sun sun  23M жов 14 18:17 val_set_all_clean.ft_input\n"
     ]
    }
   ],
   "source": [
    "work_dir = os.path.abspath(\"temp\")\n",
    "!mkdir -p {work_dir}\n",
    "!ls -lah {work_dir}"
   ]
  },
  {
   "cell_type": "code",
   "execution_count": 12,
   "id": "663f743e-ec3a-4d98-ab39-6f10b87307d0",
   "metadata": {},
   "outputs": [
    {
     "name": "stdout",
     "output_type": "stream",
     "text": [
      "17,0k 0:00:03 [4,50k/s] [  <=>                                                 ]\n"
     ]
    }
   ],
   "source": [
    "nl = '!$'\n",
    "!zcat {dt_path}/* | pv -l | grep {nl}"
   ]
  },
  {
   "cell_type": "code",
   "execution_count": 13,
   "id": "4a5fe94b-0050-405f-a5a0-258d10ff74fe",
   "metadata": {},
   "outputs": [],
   "source": [
    "import re\n",
    "emoji_pattern = re.compile(\"[\"\n",
    "        u\"\\U0001F600-\\U0001F64F\"  # emoticons\n",
    "        u\"\\U0001F300-\\U0001F5FF\"  # symbols & pictographs\n",
    "        u\"\\U0001F680-\\U0001F6FF\"  # transport & map symbols\n",
    "        u\"\\U0001F1E0-\\U0001F1FF\"  # flags (iOS)\n",
    "        u\"\\U00002500-\\U00002BEF\"  # chinese char\n",
    "        u\"\\U00002702-\\U000027B0\"\n",
    "        u\"\\U000024C2-\\U0001F251\"\n",
    "        u\"\\U0001f926-\\U0001f937\"\n",
    "        u\"\\U00010000-\\U0010ffff\"\n",
    "        u\"\\u2640-\\u2642\" \n",
    "        u\"\\u2600-\\u2B55\"\n",
    "        u\"\\u200d\"\n",
    "        u\"\\u23cf\"\n",
    "        u\"\\u23e9\"\n",
    "        u\"\\u231a\"\n",
    "        u\"\\ufe0f\"  # dingbats\n",
    "        u\"\\u3030\"\n",
    "                           \"]+\", flags=re.UNICODE)\n",
    "\n",
    "def convert_format(item: dict):\n",
    "    text = emoji_pattern.sub(' ', item['text'].replace('\\n', nl))\n",
    "    return f\"__label__{cat_to_id[item['class']]} {text}\""
   ]
  },
  {
   "cell_type": "code",
   "execution_count": 14,
   "id": "08d42390-5347-402a-9040-c921245acb84",
   "metadata": {},
   "outputs": [
    {
     "name": "stdout",
     "output_type": "stream",
     "text": [
      "IN: /home/sun/Projects/tg-prog-lang-cat/research/dataset/train_set_all_clean.json.gz, out: /home/sun/Projects/tg-prog-lang-cat/research/fasttext/temp/train_set_all_clean.ft_input\n",
      "IN: /home/sun/Projects/tg-prog-lang-cat/research/dataset/val_set_all_clean.json.gz, out: /home/sun/Projects/tg-prog-lang-cat/research/fasttext/temp/val_set_all_clean.ft_input\n"
     ]
    }
   ],
   "source": [
    "import random\n",
    "\n",
    "for p in train_path, val_path:\n",
    "    dst = os.path.join(work_dir, os.path.basename(p)[:-len(\".json.gz\")]) + \".ft_input\"\n",
    "    print(f\"IN: {p}, out: {dst}\")\n",
    "    ds = []\n",
    "    with gz.open(p, \"r\") as inf, open(dst, \"w\") as outf:\n",
    "        lines = json.load(inf)\n",
    "        min_chunk = 1\n",
    "        max_chunk = 20\n",
    "        for item in lines:\n",
    "            text_lines = [l.strip() for l in item['text'].split('\\n') if l.strip()]\n",
    "            begin = 0\n",
    "            while begin < len(text_lines):\n",
    "                end = begin + random.randint(min_chunk, max_chunk)\n",
    "                chunks = '\\n'.join(text_lines[begin:end])\n",
    "                begin = end\n",
    "            \n",
    "                ds.append(convert_format({\"text\": chunks, \"class\": item[\"class\"]}) + os.linesep)\n",
    "        random.shuffle(ds)\n",
    "        outf.writelines(ds)\n"
   ]
  },
  {
   "cell_type": "code",
   "execution_count": 15,
   "id": "6fdd77a4-7c34-448a-866a-866f4d934f00",
   "metadata": {},
   "outputs": [
    {
     "name": "stdout",
     "output_type": "stream",
     "text": [
      "total 84M\n",
      "drwxrwxr-x 2 sun sun 4,0K жов 14 15:30 .\n",
      "drwxrwxr-x 4 sun sun 4,0K жов 14 18:18 ..\n",
      "-rw-rw-r-- 1 sun sun  62M жов 14 18:20 train_set_all_clean.ft_input\n",
      "-rw-rw-r-- 1 sun sun  23M жов 14 18:20 val_set_all_clean.ft_input\n"
     ]
    }
   ],
   "source": [
    "!ls -lah {work_dir}"
   ]
  },
  {
   "cell_type": "code",
   "execution_count": 16,
   "id": "9af4ee3e-5f79-4d22-8e9f-e7abf65518b8",
   "metadata": {},
   "outputs": [
    {
     "data": {
      "text/plain": [
       "'/home/sun/Projects/tg-prog-lang-cat/research/fasttext/temp/train_set_all_clean.ft_input'"
      ]
     },
     "execution_count": 16,
     "metadata": {},
     "output_type": "execute_result"
    }
   ],
   "source": [
    "train_prep_path = os.path.join(work_dir, os.path.basename(train_path)[:-len(\".json.gz\")]) + \".ft_input\"\n",
    "train_prep_path"
   ]
  },
  {
   "cell_type": "code",
   "execution_count": 17,
   "id": "f7aff419-ccf7-4d9a-8d15-d2a3035bdbdb",
   "metadata": {},
   "outputs": [
    {
     "name": "stdout",
     "output_type": "stream",
     "text": [
      "150460 /home/sun/Projects/tg-prog-lang-cat/research/fasttext/temp/train_set_all_clean.ft_input\n"
     ]
    }
   ],
   "source": [
    "!wc -l  {train_prep_path}"
   ]
  },
  {
   "cell_type": "code",
   "execution_count": 18,
   "id": "474f0c4e-382f-4a72-a468-06b809a08fd1",
   "metadata": {},
   "outputs": [
    {
     "data": {
      "text/plain": [
       "'/home/sun/Projects/tg-prog-lang-cat/research/fasttext/temp/val_set_all_clean.ft_input'"
      ]
     },
     "execution_count": 18,
     "metadata": {},
     "output_type": "execute_result"
    }
   ],
   "source": [
    "val_prep_path = os.path.join(work_dir, os.path.basename(val_path)[:-len(\".json.gz\")]) + \".ft_input\"\n",
    "val_prep_path"
   ]
  },
  {
   "cell_type": "code",
   "execution_count": 19,
   "id": "f220f7be-28b7-4840-92fe-64ae9532b7a6",
   "metadata": {},
   "outputs": [
    {
     "name": "stdout",
     "output_type": "stream",
     "text": [
      "54223 /home/sun/Projects/tg-prog-lang-cat/research/fasttext/temp/val_set_all_clean.ft_input\n"
     ]
    }
   ],
   "source": [
    "!wc -l  {val_prep_path}"
   ]
  },
  {
   "cell_type": "code",
   "execution_count": 20,
   "id": "976590b3-8288-4151-b29a-89a2e63102d6",
   "metadata": {},
   "outputs": [
    {
     "name": "stdout",
     "output_type": "stream",
     "text": [
      "__label__1 // КомандаOpm.(\"task.install-opm\");!$КодВозврата = КомандаOpm.Исполнить();!$Если КодВозврата <> 0 Тогда!$ВызватьИсключение КомандаOpm.ПолучитьВывод();!$КонецЕсли;!$КонецПроцедуры!$Процедура ПолезнаяРабота()!$КаталогСборки = ВременныеФайлы.СоздатьКаталог();!$КаталогУстановки = ВременныеФайлы.СоздатьКаталог();!$ПутьКМанифестуСборки = ОбъединитьПути(КаталогПроекта, \"build_packagedef\");!$СобратьПакет(КаталогСборки, ПутьКМанифестуСборки);!$Лог.Информация(\"Устанавливаю в каталог <%1>\", КаталогУстановки);!$УстановитьПакет(КаталогУстановки, КаталогСборки);!$ПодготовитьПлагины(КаталогУстановки);!$ВыполнитьСборкуEXE(КаталогУстановки);\n",
      "__label__43 instance NFData Kuts!$instance NFData HOInfo!$instance NFData GFixSolution!$instance NFData GWInfo!$instance (NFData a) => NFData (SubC a)!$instance (NFData a) => NFData (WfC a)!$instance (NFData a) => NFData (SimpC a)!$instance (NFData (c a), NFData a) => NFData (GInfo c a)!$instance (NFData a) => NFData (Result a)!$instance Hashable Qualifier!$instance Hashable QualPattern!$instance Hashable QualParam!$instance Hashable Equation!$instance B.Binary QualPattern!$instance B.Binary QualParam!$instance B.Binary Qualifier!$-- | \"Smart Constructors\" for Constraints!$wfC :: (Fixpoint a) => IBindEnv -> SortedReft -> a -> [WfC a]!$wfC be sr x = if all isEmptySubst sus -- ++ gsus)!$-- NV TO RJ This tests fails with [LT:=GHC.Types.LT][EQ:=GHC.Types.EQ][GT:=GHC.Types.GT]]\n",
      "__label__14 165      | . LULCONST!$166      | . LDCONST!$167      | . LFCONST!$168      | . LVLCONST!$169      | . LUVLCONST!$170      | . string!$171      | . lstring!$172 string: . LSTRING!$173       | . string LSTRING!$174 lstring: . LLSTRING!$175        | . lstring LLSTRING!$243 name: . LNAME!$'&'        posunout a přejít do stavu 93!$'+'        posunout a přejít do stavu 94!$'-'        posunout a přejít do stavu 95!$'*'        posunout a přejít do stavu 96!$LMM        posunout a přejít do stavu 97\n",
      "__label__96 Me.label80.Name = \"label80\"!$Me.label80.Size = New System.Drawing.Size(38, 13)!$Me.label80.TabIndex = 23!$Me.label80.Text = \"Clients\"!$'!$'edMaximumClients!$'!$Me.edMaximumClients.Location = New System.Drawing.Point(109, 120)!$Me.edMaximumClients.Name = \"edMaximumClients\"!$Me.edMaximumClients.Size = New System.Drawing.Size(34, 20)!$Me.edMaximumClients.TabIndex = 22!$Me.edMaximumClients.Text = \"10\"!$'!$'label46!$'\n",
      "__label__50 \"lines\": [!$\"\\u2013\\u00a0Sie machen das.\"!$]!$},!${!$\"begin\": \"1043.880\",!$\"children\": [],!$\"end\": \"1050.120\",!$\"id\": \"s000319\",!$\"language\": \"deu\",!$\"lines\": [!$\"Die gleiche Diskussion hatten wir heute im \\u00c4ltestenrat.\"!$]!$},\n",
      "__label__14 245         | . dotdotdot!$246 arg_type_list: . arg_type!$247| . arg_type_list ',' arg_type!$248 oarg_type_list_ocomma: . %empty  [')']!$249| . arg_type_list ocomma!$LCHAN       posunout a přejít do stavu 37!$LDDD        posunout a přejít do stavu 242!$LFUNC       posunout a přejít do stavu 113!$LINTERFACE  posunout a přejít do stavu 47!$LMAP        posunout a přejít do stavu 48!$LNAME       posunout a přejít do stavu 9!$LSTRUCT     posunout a přejít do stavu 51!$LCOMM       posunout a přejít do stavu 225!$'*'         posunout a přejít do stavu 115!$'('         posunout a přejít do stavu 226!$'['         posunout a přejít do stavu 64\n",
      "__label__89 Association callbacks are similar to normal callbacks, but they are triggered by events in the lifecycle of a collection. There are four available association callbacks:!$* +before_add+!$* +after_add+!$* +before_remove+!$* +after_remove+!$You define association callbacks by adding options to the association declaration. For example:!$<ruby>!$class Customer < ActiveRecord::Base!$has_many :orders, :before_add => :check_credit_limit!$def check_credit_limit(order)!$...!$end!$end!$</ruby>!$Rails passes the object being added or removed to the callback.\n",
      "__label__89 val producer = new Producer[String](\"users.txt\", q)!$new Thread(producer).start()!$trait UserMaker {!$def makeUser(line: String) = line.split(\",\") match {!$case Array(name, userid) => User(name, userid.trim().toInt)!$}\n",
      "__label__77 ^((\\(\\d{3}\\) ?)|(\\d{3}-)|(\\(\\d{2}\\) ?)|(\\d{2}-)|(\\(\\d{1}\\) ?)|(\\d{1}-))?\\d{3}-(\\d{3}|\\d{4})\n",
      "__label__97 3.5640146992226686`*^9}, {3.564014729972711*^9, 3.564014741602728*^9},!$3.564154158611103*^9, {3.6252549507211504`*^9, 3.6252549526711535`*^9},!$3.6254347678314524`*^9}],!$Cell[TextData[{!$\"Basis: \",!$Cell[BoxData[!$RowBox[{!$RowBox[{\"a\", \"+\",!$RowBox[{\"b\", \" \",!$RowBox[{\"Tan\", \"[\", \"z\", \"]\"}]}]}], \"\\[Equal]\",!$FractionBox[!$RowBox[{\"b\", \"+\",!$RowBox[{\"a\", \" \",!$RowBox[{\"Cot\", \"[\", \"z\", \"]\"}]}]}],\n"
     ]
    }
   ],
   "source": [
    "!tail {train_prep_path}"
   ]
  },
  {
   "cell_type": "code",
   "execution_count": 21,
   "id": "2eab6efe-0a8c-4977-9a78-d5eac2cbf6ad",
   "metadata": {},
   "outputs": [
    {
     "name": "stdout",
     "output_type": "stream",
     "text": [
      "__label__1 // КомандаOpm.(\"task.install-opm\");!$КодВозврата = КомандаOpm.Исполнить();!$Если КодВозврата <> 0 Тогда!$ВызватьИсключение КомандаOpm.ПолучитьВывод();!$КонецЕсли;!$КонецПроцедуры!$Процедура ПолезнаяРабота()!$КаталогСборки = ВременныеФайлы.СоздатьКаталог();!$КаталогУстановки = ВременныеФайлы.СоздатьКаталог();!$ПутьКМанифестуСборки = ОбъединитьПути(КаталогПроекта, \"build_packagedef\");!$СобратьПакет(КаталогСборки, ПутьКМанифестуСборки);!$Лог.Информация(\"Устанавливаю в каталог <%1>\", КаталогУстановки);!$УстановитьПакет(КаталогУстановки, КаталогСборки);!$ПодготовитьПлагины(КаталогУстановки);!$ВыполнитьСборкуEXE(КаталогУстановки);\n",
      "__label__43 instance NFData Kuts!$instance NFData HOInfo!$instance NFData GFixSolution!$instance NFData GWInfo!$instance (NFData a) => NFData (SubC a)!$instance (NFData a) => NFData (WfC a)!$instance (NFData a) => NFData (SimpC a)!$instance (NFData (c a), NFData a) => NFData (GInfo c a)!$instance (NFData a) => NFData (Result a)!$instance Hashable Qualifier!$instance Hashable QualPattern!$instance Hashable QualParam!$instance Hashable Equation!$instance B.Binary QualPattern!$instance B.Binary QualParam!$instance B.Binary Qualifier!$-- | \"Smart Constructors\" for Constraints!$wfC :: (Fixpoint a) => IBindEnv -> SortedReft -> a -> [WfC a]!$wfC be sr x = if all isEmptySubst sus -- ++ gsus)!$-- NV TO RJ This tests fails with [LT:=GHC.Types.LT][EQ:=GHC.Types.EQ][GT:=GHC.Types.GT]]\n",
      "__label__14 165      | . LULCONST!$166      | . LDCONST!$167      | . LFCONST!$168      | . LVLCONST!$169      | . LUVLCONST!$170      | . string!$171      | . lstring!$172 string: . LSTRING!$173       | . string LSTRING!$174 lstring: . LLSTRING!$175        | . lstring LLSTRING!$243 name: . LNAME!$'&'        posunout a přejít do stavu 93!$'+'        posunout a přejít do stavu 94!$'-'        posunout a přejít do stavu 95!$'*'        posunout a přejít do stavu 96!$LMM        posunout a přejít do stavu 97\n",
      "__label__96 Me.label80.Name = \"label80\"!$Me.label80.Size = New System.Drawing.Size(38, 13)!$Me.label80.TabIndex = 23!$Me.label80.Text = \"Clients\"!$'!$'edMaximumClients!$'!$Me.edMaximumClients.Location = New System.Drawing.Point(109, 120)!$Me.edMaximumClients.Name = \"edMaximumClients\"!$Me.edMaximumClients.Size = New System.Drawing.Size(34, 20)!$Me.edMaximumClients.TabIndex = 22!$Me.edMaximumClients.Text = \"10\"!$'!$'label46!$'\n",
      "__label__50 \"lines\": [!$\"\\u2013\\u00a0Sie machen das.\"!$]!$},!${!$\"begin\": \"1043.880\",!$\"children\": [],!$\"end\": \"1050.120\",!$\"id\": \"s000319\",!$\"language\": \"deu\",!$\"lines\": [!$\"Die gleiche Diskussion hatten wir heute im \\u00c4ltestenrat.\"!$]!$},\n",
      "__label__14 245         | . dotdotdot!$246 arg_type_list: . arg_type!$247| . arg_type_list ',' arg_type!$248 oarg_type_list_ocomma: . %empty  [')']!$249| . arg_type_list ocomma!$LCHAN       posunout a přejít do stavu 37!$LDDD        posunout a přejít do stavu 242!$LFUNC       posunout a přejít do stavu 113!$LINTERFACE  posunout a přejít do stavu 47!$LMAP        posunout a přejít do stavu 48!$LNAME       posunout a přejít do stavu 9!$LSTRUCT     posunout a přejít do stavu 51!$LCOMM       posunout a přejít do stavu 225!$'*'         posunout a přejít do stavu 115!$'('         posunout a přejít do stavu 226!$'['         posunout a přejít do stavu 64\n",
      "__label__89 Association callbacks are similar to normal callbacks, but they are triggered by events in the lifecycle of a collection. There are four available association callbacks:!$* +before_add+!$* +after_add+!$* +before_remove+!$* +after_remove+!$You define association callbacks by adding options to the association declaration. For example:!$<ruby>!$class Customer < ActiveRecord::Base!$has_many :orders, :before_add => :check_credit_limit!$def check_credit_limit(order)!$...!$end!$end!$</ruby>!$Rails passes the object being added or removed to the callback.\n",
      "__label__89 val producer = new Producer[String](\"users.txt\", q)!$new Thread(producer).start()!$trait UserMaker {!$def makeUser(line: String) = line.split(\",\") match {!$case Array(name, userid) => User(name, userid.trim().toInt)!$}\n",
      "__label__77 ^((\\(\\d{3}\\) ?)|(\\d{3}-)|(\\(\\d{2}\\) ?)|(\\d{2}-)|(\\(\\d{1}\\) ?)|(\\d{1}-))?\\d{3}-(\\d{3}|\\d{4})\n",
      "__label__97 3.5640146992226686`*^9}, {3.564014729972711*^9, 3.564014741602728*^9},!$3.564154158611103*^9, {3.6252549507211504`*^9, 3.6252549526711535`*^9},!$3.6254347678314524`*^9}],!$Cell[TextData[{!$\"Basis: \",!$Cell[BoxData[!$RowBox[{!$RowBox[{\"a\", \"+\",!$RowBox[{\"b\", \" \",!$RowBox[{\"Tan\", \"[\", \"z\", \"]\"}]}]}], \"\\[Equal]\",!$FractionBox[!$RowBox[{\"b\", \"+\",!$RowBox[{\"a\", \" \",!$RowBox[{\"Cot\", \"[\", \"z\", \"]\"}]}]}],\n"
     ]
    }
   ],
   "source": [
    "!tail {train_prep_path}"
   ]
  },
  {
   "cell_type": "code",
   "execution_count": 22,
   "id": "9b5d9c44-3b34-4819-890a-fd565066c6a4",
   "metadata": {},
   "outputs": [
    {
     "data": {
      "text/plain": [
       "\u001b[0;31mSignature:\u001b[0m \u001b[0mft\u001b[0m\u001b[0;34m.\u001b[0m\u001b[0mtrain_supervised\u001b[0m\u001b[0;34m(\u001b[0m\u001b[0;34m*\u001b[0m\u001b[0mkargs\u001b[0m\u001b[0;34m,\u001b[0m \u001b[0;34m**\u001b[0m\u001b[0mkwargs\u001b[0m\u001b[0;34m)\u001b[0m\u001b[0;34m\u001b[0m\u001b[0;34m\u001b[0m\u001b[0m\n",
       "\u001b[0;31mDocstring:\u001b[0m\n",
       "Train a supervised model and return a model object.\n",
       "\n",
       "input must be a filepath. The input text does not need to be tokenized\n",
       "as per the tokenize function, but it must be preprocessed and encoded\n",
       "as UTF-8. You might want to consult standard preprocessing scripts such\n",
       "as tokenizer.perl mentioned here: http://www.statmt.org/wmt07/baseline.html\n",
       "\n",
       "The input file must must contain at least one label per line. For an\n",
       "example consult the example datasets which are part of the fastText\n",
       "repository such as the dataset pulled by classification-example.sh.\n",
       "\u001b[0;31mFile:\u001b[0m      ~/.local/lib/python3.8/site-packages/fasttext/FastText.py\n",
       "\u001b[0;31mType:\u001b[0m      function"
      ]
     },
     "metadata": {},
     "output_type": "display_data"
    }
   ],
   "source": [
    "ft.train_supervised?"
   ]
  },
  {
   "cell_type": "code",
   "execution_count": 23,
   "id": "ad73b73c-fff4-48ef-8e35-d0ab8993b803",
   "metadata": {},
   "outputs": [
    {
     "data": {
      "text/plain": [
       "[0.01, 0.04, 0.07, 0.1, 0.13]"
      ]
     },
     "execution_count": 23,
     "metadata": {},
     "output_type": "execute_result"
    }
   ],
   "source": [
    "lr_step = 3\n",
    "lr_values = [v / 100 for v in range(1, 100 + lr_step, lr_step)]\n",
    "lr_values[:5]"
   ]
  },
  {
   "cell_type": "code",
   "execution_count": 24,
   "id": "b380f1f3-8333-4c4b-a28b-d110f42cf08d",
   "metadata": {},
   "outputs": [
    {
     "data": {
      "text/plain": [
       "[0.88, 0.91, 0.94, 0.97, 1.0]"
      ]
     },
     "execution_count": 24,
     "metadata": {},
     "output_type": "execute_result"
    }
   ],
   "source": [
    "lr_values[-5:]"
   ]
  },
  {
   "cell_type": "code",
   "execution_count": 25,
   "id": "93cf2e94-c6f2-40ba-a3d6-62b15d64658c",
   "metadata": {},
   "outputs": [
    {
     "data": {
      "text/plain": [
       "[5, 6, 7, 8, 9]"
      ]
     },
     "execution_count": 25,
     "metadata": {},
     "output_type": "execute_result"
    }
   ],
   "source": [
    "e_step = 1\n",
    "epoch_values = list(range(5, 50+e_step, e_step))\n",
    "epoch_values[:5]"
   ]
  },
  {
   "cell_type": "code",
   "execution_count": 26,
   "id": "25b04bf8-6b35-488a-8f28-2799060651c0",
   "metadata": {},
   "outputs": [
    {
     "data": {
      "text/plain": [
       "[46, 47, 48, 49, 50]"
      ]
     },
     "execution_count": 26,
     "metadata": {},
     "output_type": "execute_result"
    }
   ],
   "source": [
    "epoch_values[-5:]"
   ]
  },
  {
   "cell_type": "code",
   "execution_count": 27,
   "id": "3c9f7171-77ae-4170-aeae-0183018069dc",
   "metadata": {},
   "outputs": [
    {
     "data": {
      "text/plain": [
       "[1, 2, 3, 4, 5]"
      ]
     },
     "execution_count": 27,
     "metadata": {},
     "output_type": "execute_result"
    }
   ],
   "source": [
    "ngrams_values = list(range(1, 6))\n",
    "ngrams_values"
   ]
  },
  {
   "cell_type": "code",
   "execution_count": 28,
   "id": "90692e3f-201e-4854-b036-5183ea457f03",
   "metadata": {},
   "outputs": [],
   "source": [
    "# HYPER PARAMS\n",
    "# lr=1.0, # [0.1 - 1.0]\n",
    "# epoch=25, # [5-50]\n",
    "# wordNgrams=2 #[1-5]"
   ]
  },
  {
   "cell_type": "code",
   "execution_count": null,
   "id": "b0ec401c-6990-4ba6-87e7-f500b3183e7f",
   "metadata": {},
   "outputs": [],
   "source": []
  },
  {
   "cell_type": "code",
   "execution_count": null,
   "id": "566822e1-a0a8-4c73-b5a6-5907742d19c3",
   "metadata": {},
   "outputs": [
    {
     "name": "stderr",
     "output_type": "stream",
     "text": [
      "Progress:   3.7% Trials:    2 Best score:  0.475260 ETA:   0h57m47s"
     ]
    }
   ],
   "source": [
    "model = ft.train_supervised(input=train_prep_path, thread=16, autotuneValidationFile=val_prep_path, autotuneDuration=3600, autotuneModelSize='10M')"
   ]
  },
  {
   "cell_type": "code",
   "execution_count": null,
   "id": "58331ef3-4de0-4c99-be7c-493f7190192d",
   "metadata": {},
   "outputs": [],
   "source": [
    "def test_model(model):\n",
    "    count, prec, rec = model.test(val_prep_path)\n",
    "    f1 = 2 * prec * rec / (prec + rec)\n",
    "    print(f\"Count: {count}, f1: {f1} prec: {prec}, rec: {rec}, \")"
   ]
  },
  {
   "cell_type": "code",
   "execution_count": null,
   "id": "d68fd777-d20a-434e-82ba-6b10ca566387",
   "metadata": {},
   "outputs": [],
   "source": [
    "test_model(model)"
   ]
  },
  {
   "cell_type": "code",
   "execution_count": null,
   "id": "9504991b-b981-4279-a97c-b4ef9a98ffe9",
   "metadata": {},
   "outputs": [],
   "source": [
    "fat_model_path = 'prog_model-2-sample-by-lines.bin'\n",
    "model.save_model(fat_model_path)"
   ]
  },
  {
   "cell_type": "code",
   "execution_count": null,
   "id": "cbd0f552-2a45-4874-848d-f78257b88995",
   "metadata": {},
   "outputs": [],
   "source": [
    "!ls -lah {fat_model_path}"
   ]
  },
  {
   "cell_type": "code",
   "execution_count": null,
   "id": "012f1a91-dc94-40c9-b600-71b8e5bea0a7",
   "metadata": {},
   "outputs": [],
   "source": [
    "model.quantize?"
   ]
  },
  {
   "cell_type": "code",
   "execution_count": null,
   "id": "c71cc348-3d4e-4255-a4d0-1885cdfd56ea",
   "metadata": {},
   "outputs": [],
   "source": [
    "# model.quantize(input=train_prep_path, qnorm=True, retrain=True, cutoff=100000)"
   ]
  },
  {
   "cell_type": "code",
   "execution_count": null,
   "id": "b6fdda1a-dfb8-4688-8443-f15afd2f4c85",
   "metadata": {},
   "outputs": [],
   "source": [
    "# test_model(model)"
   ]
  },
  {
   "cell_type": "code",
   "execution_count": null,
   "id": "f0917752-5b68-444f-bc93-3f79b9205296",
   "metadata": {},
   "outputs": [],
   "source": [
    "# thin_model_path = 'cooking_model.ftz'\n",
    "# model.save_model(thin_model_path)\n",
    "# !ls -lah {thin_model_path}"
   ]
  },
  {
   "cell_type": "code",
   "execution_count": null,
   "id": "9de7f1f4-fcb3-4a53-a79c-6469328ea78b",
   "metadata": {},
   "outputs": [],
   "source": []
  }
 ],
 "metadata": {
  "kernelspec": {
   "display_name": "Python 3 (ipykernel)",
   "language": "python",
   "name": "python3"
  },
  "language_info": {
   "codemirror_mode": {
    "name": "ipython",
    "version": 3
   },
   "file_extension": ".py",
   "mimetype": "text/x-python",
   "name": "python",
   "nbconvert_exporter": "python",
   "pygments_lexer": "ipython3",
   "version": "3.8.10"
  }
 },
 "nbformat": 4,
 "nbformat_minor": 5
}
