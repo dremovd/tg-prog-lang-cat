{
 "cells": [
  {
   "cell_type": "code",
   "execution_count": 1,
   "id": "17055635-438b-4e75-979d-812709417edb",
   "metadata": {},
   "outputs": [
    {
     "name": "stdout",
     "output_type": "stream",
     "text": [
      "Requirement already satisfied: fasttext in /home/sun/.local/lib/python3.8/site-packages (0.9.2)\n",
      "Requirement already satisfied: scikit-learn in /home/sun/.local/lib/python3.8/site-packages (1.3.1)\n",
      "Requirement already satisfied: numpy in /home/sun/.local/lib/python3.8/site-packages (1.24.4)\n",
      "Requirement already satisfied: pandas in /home/sun/.local/lib/python3.8/site-packages (2.0.3)\n",
      "Requirement already satisfied: seaborn in /home/sun/.local/lib/python3.8/site-packages (0.13.0)\n",
      "Requirement already satisfied: setuptools>=0.7.0 in /usr/lib/python3/dist-packages (from fasttext) (45.2.0)\n",
      "Requirement already satisfied: pybind11>=2.2 in /home/sun/.local/lib/python3.8/site-packages (from fasttext) (2.11.1)\n",
      "Requirement already satisfied: threadpoolctl>=2.0.0 in /home/sun/.local/lib/python3.8/site-packages (from scikit-learn) (3.2.0)\n",
      "Requirement already satisfied: scipy>=1.5.0 in /home/sun/.local/lib/python3.8/site-packages (from scikit-learn) (1.10.1)\n",
      "Requirement already satisfied: joblib>=1.1.1 in /home/sun/.local/lib/python3.8/site-packages (from scikit-learn) (1.3.2)\n",
      "Requirement already satisfied: python-dateutil>=2.8.2 in /home/sun/.local/lib/python3.8/site-packages (from pandas) (2.8.2)\n",
      "Requirement already satisfied: tzdata>=2022.1 in /home/sun/.local/lib/python3.8/site-packages (from pandas) (2023.3)\n",
      "Requirement already satisfied: pytz>=2020.1 in /home/sun/.local/lib/python3.8/site-packages (from pandas) (2023.3.post1)\n",
      "Requirement already satisfied: matplotlib!=3.6.1,>=3.3 in /home/sun/.local/lib/python3.8/site-packages (from seaborn) (3.7.3)\n",
      "Requirement already satisfied: six>=1.5 in /home/sun/.local/lib/python3.8/site-packages (from python-dateutil>=2.8.2->pandas) (1.16.0)\n",
      "Requirement already satisfied: importlib-resources>=3.2.0; python_version < \"3.10\" in /home/sun/.local/lib/python3.8/site-packages (from matplotlib!=3.6.1,>=3.3->seaborn) (5.12.0)\n",
      "Requirement already satisfied: kiwisolver>=1.0.1 in /home/sun/.local/lib/python3.8/site-packages (from matplotlib!=3.6.1,>=3.3->seaborn) (1.4.5)\n",
      "Requirement already satisfied: cycler>=0.10 in /home/sun/.local/lib/python3.8/site-packages (from matplotlib!=3.6.1,>=3.3->seaborn) (0.12.1)\n",
      "Requirement already satisfied: packaging>=20.0 in /home/sun/.local/lib/python3.8/site-packages (from matplotlib!=3.6.1,>=3.3->seaborn) (23.2)\n",
      "Requirement already satisfied: pyparsing>=2.3.1 in /home/sun/.local/lib/python3.8/site-packages (from matplotlib!=3.6.1,>=3.3->seaborn) (3.1.1)\n",
      "Requirement already satisfied: fonttools>=4.22.0 in /home/sun/.local/lib/python3.8/site-packages (from matplotlib!=3.6.1,>=3.3->seaborn) (4.43.1)\n",
      "Requirement already satisfied: contourpy>=1.0.1 in /home/sun/.local/lib/python3.8/site-packages (from matplotlib!=3.6.1,>=3.3->seaborn) (1.1.1)\n",
      "Requirement already satisfied: pillow>=6.2.0 in /usr/lib/python3/dist-packages (from matplotlib!=3.6.1,>=3.3->seaborn) (7.0.0)\n",
      "Requirement already satisfied: zipp>=3.1.0; python_version < \"3.10\" in /home/sun/.local/lib/python3.8/site-packages (from importlib-resources>=3.2.0; python_version < \"3.10\"->matplotlib!=3.6.1,>=3.3->seaborn) (3.15.0)\n"
     ]
    }
   ],
   "source": [
    "!pip3 install fasttext scikit-learn numpy pandas seaborn"
   ]
  },
  {
   "cell_type": "code",
   "execution_count": 2,
   "id": "e9b7ea6d-be95-4abb-aca3-fb54b7c21474",
   "metadata": {},
   "outputs": [],
   "source": [
    "import numpy as np, fasttext as ft, pandas as pd, seaborn as sns, sklearn as sk"
   ]
  },
  {
   "cell_type": "code",
   "execution_count": 3,
   "id": "77a79bb7-f34d-4851-bd2f-a7dab06df066",
   "metadata": {},
   "outputs": [
    {
     "name": "stdout",
     "output_type": "stream",
     "text": [
      "--2023-10-14 14:07:02--  https://dl.fbaipublicfiles.com/fasttext/data/cooking.stackexchange.tar.gz\n",
      "Resolving dl.fbaipublicfiles.com (dl.fbaipublicfiles.com)... 18.244.102.12, 18.244.102.73, 18.244.102.110, ...\n",
      "Connecting to dl.fbaipublicfiles.com (dl.fbaipublicfiles.com)|18.244.102.12|:443... connected.\n",
      "HTTP request sent, awaiting response... 200 OK\n",
      "Length: 457609 (447K) [application/x-tar]\n",
      "Saving to: ‘cooking.stackexchange.tar.gz.2’\n",
      "\n",
      "cooking.stackexchan 100%[===================>] 446,88K  --.-KB/s    in 0,05s   \n",
      "\n",
      "2023-10-14 14:07:02 (8,50 MB/s) - ‘cooking.stackexchange.tar.gz.2’ saved [457609/457609]\n",
      "\n",
      "cooking.stackexchange.id\n",
      "cooking.stackexchange.txt\n",
      "readme.txt\n"
     ]
    }
   ],
   "source": [
    "!wget https://dl.fbaipublicfiles.com/fasttext/data/cooking.stackexchange.tar.gz && tar xvzf cooking.stackexchange.tar.gz"
   ]
  },
  {
   "cell_type": "code",
   "execution_count": 4,
   "id": "070c202f-eea9-4178-bf3c-b11311058f85",
   "metadata": {},
   "outputs": [
    {
     "name": "stdout",
     "output_type": "stream",
     "text": [
      "__label__sauce __label__cheese How much does potato starch affect a cheese sauce recipe?\n",
      "__label__food-safety __label__acidity Dangerous pathogens capable of growing in acidic environments\n",
      "__label__cast-iron __label__stove How do I cover up the white spots on my cast iron stove?\n",
      "__label__restaurant Michelin Three Star Restaurant; but if the chef is not there\n",
      "__label__knife-skills __label__dicing Without knife skills, how can I quickly and accurately dice vegetables?\n"
     ]
    }
   ],
   "source": [
    "!head -n 5 cooking.stackexchange.txt"
   ]
  },
  {
   "cell_type": "code",
   "execution_count": 5,
   "id": "97f0c965-a64e-4c16-abcf-9d82abc4832f",
   "metadata": {},
   "outputs": [
    {
     "name": "stdout",
     "output_type": "stream",
     "text": [
      "15404 cooking.stackexchange.txt\n"
     ]
    }
   ],
   "source": [
    "!wc -l cooking.stackexchange.txt"
   ]
  },
  {
   "cell_type": "code",
   "execution_count": 6,
   "id": "03aeaef4-c10c-4b33-a266-17943241333a",
   "metadata": {},
   "outputs": [
    {
     "name": "stdout",
     "output_type": "stream",
     "text": [
      "__label__food-safety What precautions should I take when preparing food while I have a cold?\n",
      "__label__sauce __label__roux __label__ratio What is the thickening power of different types of roux?\n",
      "__label__chocolate __label__additives Turning raw/baking cocoa powder into instant cocoa (Kaba/Nesquik)\n",
      "__label__onions __label__hamburgers Cooling cooked onions before adding to raw mince\n",
      "__label__flavor __label__smell Are there particular palate cleansers for particular foods?\n"
     ]
    }
   ],
   "source": [
    "!cat cooking.stackexchange.txt | shuf > cooking.stackexchange.shuffled.txt\n",
    "!head -n 5 cooking.stackexchange.shuffled.txt"
   ]
  },
  {
   "cell_type": "code",
   "execution_count": 7,
   "id": "0371e18c-4054-4150-823e-3f6d01632ea7",
   "metadata": {},
   "outputs": [
    {
     "name": "stdout",
     "output_type": "stream",
     "text": [
      "__label__food-safety What precautions should I take when preparing food while I have a cold?\n",
      "__label__sauce __label__roux __label__ratio What is the thickening power of different types of roux?\n",
      "__label__chocolate __label__additives Turning raw/baking cocoa powder into instant cocoa (Kaba/Nesquik)\n",
      "__label__onions __label__hamburgers Cooling cooked onions before adding to raw mince\n",
      "__label__flavor __label__smell Are there particular palate cleansers for particular foods?\n"
     ]
    }
   ],
   "source": [
    "!head -n 12404 cooking.stackexchange.shuffled.txt > cooking.train\n",
    "!head -n 5 cooking.train"
   ]
  },
  {
   "cell_type": "code",
   "execution_count": 8,
   "id": "0f7238bc-b4eb-4a57-a689-c2a6e12d8b23",
   "metadata": {},
   "outputs": [
    {
     "name": "stdout",
     "output_type": "stream",
     "text": [
      "__label__gluten-free __label__french-cuisine __label__cornstarch Hiding the taste of cornstarch in gluten-free bechamel\n",
      "__label__chicken __label__brining __label__chemistry How deeply will the flavors in a brine penetrate chicken?\n",
      "__label__coffee __label__roasting Can I use chestnut roaster clay pot to roast coffee at home?\n",
      "__label__baking __label__brownies Uneven brownie baking?\n",
      "__label__ravioli Ravioli filling to edge ratio\n"
     ]
    }
   ],
   "source": [
    "!tail -n 3000 cooking.stackexchange.shuffled.txt > cooking.valid\n",
    "!head -n 5 cooking.valid"
   ]
  },
  {
   "cell_type": "code",
   "execution_count": 9,
   "id": "9b5d9c44-3b34-4819-890a-fd565066c6a4",
   "metadata": {},
   "outputs": [
    {
     "data": {
      "text/plain": [
       "\u001b[0;31mSignature:\u001b[0m \u001b[0mft\u001b[0m\u001b[0;34m.\u001b[0m\u001b[0mtrain_supervised\u001b[0m\u001b[0;34m(\u001b[0m\u001b[0;34m*\u001b[0m\u001b[0mkargs\u001b[0m\u001b[0;34m,\u001b[0m \u001b[0;34m**\u001b[0m\u001b[0mkwargs\u001b[0m\u001b[0;34m)\u001b[0m\u001b[0;34m\u001b[0m\u001b[0;34m\u001b[0m\u001b[0m\n",
       "\u001b[0;31mDocstring:\u001b[0m\n",
       "Train a supervised model and return a model object.\n",
       "\n",
       "input must be a filepath. The input text does not need to be tokenized\n",
       "as per the tokenize function, but it must be preprocessed and encoded\n",
       "as UTF-8. You might want to consult standard preprocessing scripts such\n",
       "as tokenizer.perl mentioned here: http://www.statmt.org/wmt07/baseline.html\n",
       "\n",
       "The input file must must contain at least one label per line. For an\n",
       "example consult the example datasets which are part of the fastText\n",
       "repository such as the dataset pulled by classification-example.sh.\n",
       "\u001b[0;31mFile:\u001b[0m      ~/.local/lib/python3.8/site-packages/fasttext/FastText.py\n",
       "\u001b[0;31mType:\u001b[0m      function"
      ]
     },
     "metadata": {},
     "output_type": "display_data"
    }
   ],
   "source": [
    "ft.train_supervised?"
   ]
  },
  {
   "cell_type": "code",
   "execution_count": 10,
   "id": "ad73b73c-fff4-48ef-8e35-d0ab8993b803",
   "metadata": {},
   "outputs": [
    {
     "data": {
      "text/plain": [
       "[0.01, 0.04, 0.07, 0.1, 0.13]"
      ]
     },
     "execution_count": 10,
     "metadata": {},
     "output_type": "execute_result"
    }
   ],
   "source": [
    "lr_step = 3\n",
    "lr_values = [v / 100 for v in range(1, 100 + lr_step, lr_step)]\n",
    "lr_values[:5]"
   ]
  },
  {
   "cell_type": "code",
   "execution_count": 11,
   "id": "b380f1f3-8333-4c4b-a28b-d110f42cf08d",
   "metadata": {},
   "outputs": [
    {
     "data": {
      "text/plain": [
       "[0.88, 0.91, 0.94, 0.97, 1.0]"
      ]
     },
     "execution_count": 11,
     "metadata": {},
     "output_type": "execute_result"
    }
   ],
   "source": [
    "lr_values[-5:]"
   ]
  },
  {
   "cell_type": "code",
   "execution_count": 12,
   "id": "93cf2e94-c6f2-40ba-a3d6-62b15d64658c",
   "metadata": {},
   "outputs": [
    {
     "data": {
      "text/plain": [
       "[5, 6, 7, 8, 9]"
      ]
     },
     "execution_count": 12,
     "metadata": {},
     "output_type": "execute_result"
    }
   ],
   "source": [
    "e_step = 1\n",
    "epoch_values = list(range(5, 50+e_step, e_step))\n",
    "epoch_values[:5]"
   ]
  },
  {
   "cell_type": "code",
   "execution_count": 13,
   "id": "25b04bf8-6b35-488a-8f28-2799060651c0",
   "metadata": {},
   "outputs": [
    {
     "data": {
      "text/plain": [
       "[46, 47, 48, 49, 50]"
      ]
     },
     "execution_count": 13,
     "metadata": {},
     "output_type": "execute_result"
    }
   ],
   "source": [
    "epoch_values[-5:]"
   ]
  },
  {
   "cell_type": "code",
   "execution_count": 1,
   "id": "3c9f7171-77ae-4170-aeae-0183018069dc",
   "metadata": {},
   "outputs": [
    {
     "data": {
      "text/plain": [
       "[1, 2, 3, 4, 5]"
      ]
     },
     "execution_count": 1,
     "metadata": {},
     "output_type": "execute_result"
    }
   ],
   "source": [
    "ngrams_values = list(range(1, 6))\n",
    "ngrams_values"
   ]
  },
  {
   "cell_type": "code",
   "execution_count": 2,
   "id": "90692e3f-201e-4854-b036-5183ea457f03",
   "metadata": {},
   "outputs": [],
   "source": [
    "# HYPER PARAMS\n",
    "# lr=1.0, # [0.1 - 1.0]\n",
    "# epoch=25, # [5-50]\n",
    "# wordNgrams=2 #[1-5]"
   ]
  },
  {
   "cell_type": "code",
   "execution_count": 24,
   "id": "566822e1-a0a8-4c73-b5a6-5907742d19c3",
   "metadata": {},
   "outputs": [
    {
     "name": "stderr",
     "output_type": "stream",
     "text": [
      "Progress: 100.0% Trials:   23 Best score:  0.375484 ETA:   0h 0m 0s\n",
      "Training again with best arguments\n",
      "Read 0M words\n",
      "Number of words:  14562\n",
      "Number of labels: 735\n",
      "Progress: 100.0% words/sec/thread:    8996 lr:  0.000000 avg.loss:  3.754475 ETA:   0h 0m 0s\n"
     ]
    }
   ],
   "source": [
    "model = ft.train_supervised(input=\"cooking.train\", autotuneValidationFile='cooking.valid', autotuneDuration=600, thread=16)"
   ]
  },
  {
   "cell_type": "code",
   "execution_count": 16,
   "id": "58331ef3-4de0-4c99-be7c-493f7190192d",
   "metadata": {},
   "outputs": [],
   "source": [
    "def test_model(model):\n",
    "    count, prec, rec = model.test(\"cooking.valid\")\n",
    "    f1 = 2 * prec * rec / (prec + rec)\n",
    "    print(f\"Count: {count}, f1: {f1} prec: {prec}, rec: {rec}, \")"
   ]
  },
  {
   "cell_type": "code",
   "execution_count": 17,
   "id": "d68fd777-d20a-434e-82ba-6b10ca566387",
   "metadata": {},
   "outputs": [
    {
     "name": "stdout",
     "output_type": "stream",
     "text": [
      "Count: 2999, f1: 0.35060167244544155 prec: 0.573191063687896, rec: 0.25253415601586604, \n"
     ]
    }
   ],
   "source": [
    "test_model(model)"
   ]
  },
  {
   "cell_type": "code",
   "execution_count": 18,
   "id": "9504991b-b981-4279-a97c-b4ef9a98ffe9",
   "metadata": {},
   "outputs": [],
   "source": [
    "fat_model_path = 'cooking_model.bin'\n",
    "model.save_model(fat_model_path)"
   ]
  },
  {
   "cell_type": "code",
   "execution_count": 19,
   "id": "cbd0f552-2a45-4874-848d-f78257b88995",
   "metadata": {},
   "outputs": [
    {
     "name": "stdout",
     "output_type": "stream",
     "text": [
      "-rw-rw-r-- 1 sun sun 770M жов 14 14:07 cooking_model.bin\n"
     ]
    }
   ],
   "source": [
    "!ls -lah {fat_model_path}"
   ]
  },
  {
   "cell_type": "code",
   "execution_count": 20,
   "id": "012f1a91-dc94-40c9-b600-71b8e5bea0a7",
   "metadata": {},
   "outputs": [
    {
     "data": {
      "text/plain": [
       "\u001b[0;31mSignature:\u001b[0m\n",
       "\u001b[0mmodel\u001b[0m\u001b[0;34m.\u001b[0m\u001b[0mquantize\u001b[0m\u001b[0;34m(\u001b[0m\u001b[0;34m\u001b[0m\n",
       "\u001b[0;34m\u001b[0m    \u001b[0minput\u001b[0m\u001b[0;34m=\u001b[0m\u001b[0;32mNone\u001b[0m\u001b[0;34m,\u001b[0m\u001b[0;34m\u001b[0m\n",
       "\u001b[0;34m\u001b[0m    \u001b[0mqout\u001b[0m\u001b[0;34m=\u001b[0m\u001b[0;32mFalse\u001b[0m\u001b[0;34m,\u001b[0m\u001b[0;34m\u001b[0m\n",
       "\u001b[0;34m\u001b[0m    \u001b[0mcutoff\u001b[0m\u001b[0;34m=\u001b[0m\u001b[0;36m0\u001b[0m\u001b[0;34m,\u001b[0m\u001b[0;34m\u001b[0m\n",
       "\u001b[0;34m\u001b[0m    \u001b[0mretrain\u001b[0m\u001b[0;34m=\u001b[0m\u001b[0;32mFalse\u001b[0m\u001b[0;34m,\u001b[0m\u001b[0;34m\u001b[0m\n",
       "\u001b[0;34m\u001b[0m    \u001b[0mepoch\u001b[0m\u001b[0;34m=\u001b[0m\u001b[0;32mNone\u001b[0m\u001b[0;34m,\u001b[0m\u001b[0;34m\u001b[0m\n",
       "\u001b[0;34m\u001b[0m    \u001b[0mlr\u001b[0m\u001b[0;34m=\u001b[0m\u001b[0;32mNone\u001b[0m\u001b[0;34m,\u001b[0m\u001b[0;34m\u001b[0m\n",
       "\u001b[0;34m\u001b[0m    \u001b[0mthread\u001b[0m\u001b[0;34m=\u001b[0m\u001b[0;32mNone\u001b[0m\u001b[0;34m,\u001b[0m\u001b[0;34m\u001b[0m\n",
       "\u001b[0;34m\u001b[0m    \u001b[0mverbose\u001b[0m\u001b[0;34m=\u001b[0m\u001b[0;32mNone\u001b[0m\u001b[0;34m,\u001b[0m\u001b[0;34m\u001b[0m\n",
       "\u001b[0;34m\u001b[0m    \u001b[0mdsub\u001b[0m\u001b[0;34m=\u001b[0m\u001b[0;36m2\u001b[0m\u001b[0;34m,\u001b[0m\u001b[0;34m\u001b[0m\n",
       "\u001b[0;34m\u001b[0m    \u001b[0mqnorm\u001b[0m\u001b[0;34m=\u001b[0m\u001b[0;32mFalse\u001b[0m\u001b[0;34m,\u001b[0m\u001b[0;34m\u001b[0m\n",
       "\u001b[0;34m\u001b[0m\u001b[0;34m)\u001b[0m\u001b[0;34m\u001b[0m\u001b[0;34m\u001b[0m\u001b[0m\n",
       "\u001b[0;31mDocstring:\u001b[0m\n",
       "Quantize the model reducing the size of the model and\n",
       "it's memory footprint.\n",
       "\u001b[0;31mFile:\u001b[0m      ~/.local/lib/python3.8/site-packages/fasttext/FastText.py\n",
       "\u001b[0;31mType:\u001b[0m      method"
      ]
     },
     "metadata": {},
     "output_type": "display_data"
    }
   ],
   "source": [
    "model.quantize?"
   ]
  },
  {
   "cell_type": "code",
   "execution_count": 21,
   "id": "c71cc348-3d4e-4255-a4d0-1885cdfd56ea",
   "metadata": {},
   "outputs": [
    {
     "name": "stderr",
     "output_type": "stream",
     "text": [
      "Progress: 100.0% words/sec/thread:   23056 lr:  0.000000 avg.loss:  1.942648 ETA:   0h 0m 0s\n"
     ]
    }
   ],
   "source": [
    "model.quantize(input=\"cooking.train\", qnorm=True, retrain=True, cutoff=100000)"
   ]
  },
  {
   "cell_type": "code",
   "execution_count": 22,
   "id": "b6fdda1a-dfb8-4688-8443-f15afd2f4c85",
   "metadata": {},
   "outputs": [
    {
     "name": "stdout",
     "output_type": "stream",
     "text": [
      "Count: 2999, f1: 0.35957576993677337 prec: 0.5878626208736245, rec: 0.2589980902012634, \n"
     ]
    }
   ],
   "source": [
    "test_model(model)"
   ]
  },
  {
   "cell_type": "code",
   "execution_count": 23,
   "id": "f0917752-5b68-444f-bc93-3f79b9205296",
   "metadata": {},
   "outputs": [
    {
     "name": "stdout",
     "output_type": "stream",
     "text": [
      "-rw-rw-r-- 1 sun sun 6,2M жов 14 14:08 cooking_model.ftz\n"
     ]
    }
   ],
   "source": [
    "thin_model_path = 'cooking_model.ftz'\n",
    "model.save_model(thin_model_path)\n",
    "!ls -lah {thin_model_path}"
   ]
  },
  {
   "cell_type": "code",
   "execution_count": null,
   "id": "9de7f1f4-fcb3-4a53-a79c-6469328ea78b",
   "metadata": {},
   "outputs": [],
   "source": []
  }
 ],
 "metadata": {
  "kernelspec": {
   "display_name": "Python 3 (ipykernel)",
   "language": "python",
   "name": "python3"
  },
  "language_info": {
   "codemirror_mode": {
    "name": "ipython",
    "version": 3
   },
   "file_extension": ".py",
   "mimetype": "text/x-python",
   "name": "python",
   "nbconvert_exporter": "python",
   "pygments_lexer": "ipython3",
   "version": "3.8.10"
  }
 },
 "nbformat": 4,
 "nbformat_minor": 5
}
